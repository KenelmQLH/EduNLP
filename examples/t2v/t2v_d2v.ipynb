{
 "cells": [
  {
   "cell_type": "markdown",
   "metadata": {},
   "source": [
    "# 使用D2V向量化容器\n",
    "## 导入功能块"
   ]
  },
  {
   "cell_type": "code",
   "execution_count": 1,
   "metadata": {},
   "outputs": [
    {
     "name": "stderr",
     "output_type": "stream",
     "text": [
      "d:\\MySoftwares\\Anaconda\\envs\\data\\lib\\site-packages\\gensim\\similarities\\__init__.py:15: UserWarning: The gensim.similarities.levenshtein submodule is disabled, because the optional Levenshtein package <https://pypi.org/project/python-Levenshtein/> is unavailable. Install Levenhstein (e.g. `pip install python-Levenshtein`) to suppress this warning.\n",
      "  warnings.warn(msg)\n"
     ]
    }
   ],
   "source": [
    "from EduNLP.Tokenizer import PureTextTokenizer\n",
    "\n",
    "from EduNLP.Vector import T2V, D2V"
   ]
  },
  {
   "cell_type": "markdown",
   "metadata": {},
   "source": [
    "## 令牌化"
   ]
  },
  {
   "cell_type": "code",
   "execution_count": 2,
   "metadata": {},
   "outputs": [
    {
     "name": "stdout",
     "output_type": "stream",
     "text": [
      "[['题目', '如图', '几何图形', '此图', '三个', '半圆', '三个', '半圆', '直径', '直角三角形', 'ABC', '斜边', 'BC', '直角', 'AB', 'AC', '\\\\bigtriangleup', 'ABC', '三边', '围成', '区域', '记', 'I', '黑色', '记', 'II', '其余部分', '记', 'III', '图形', '中', '随机', '取', '一点', '此点', '取自', 'I', ',', 'II', ',', 'III', '概率', '记', 'p', '_', '1', ',', 'p', '_', '2', ',', 'p', '_', '3', '[MARK]', '[FIGURE]'], ['题目', '二', '如图', '古希腊', '数学家', '希波', '克拉底', '研究', '几何图形', '此图', '三个', '半圆', '三个', '半圆', '直径', '直角三角形', 'ABC', '斜边', 'BC', '直角', 'AB', 'AC', '\\\\bigtriangleup', 'ABC', '三边', '围成', '区域', '记', 'I', '黑色', '记', 'II', '其余部分', '记', 'III', '图形', '中', '随机', '取', '一点', '此点', '取自', 'I', ',', 'II', ',', 'III', '概率', '记', 'p', '_', '1', ',', 'p', '_', '2', ',', 'p', '_', '3', '[MARK]', '[FIGURE]']]\n"
     ]
    }
   ],
   "source": [
    "raw_items = [\n",
    "    r\"题目一：如图几何图形．此图由三个半圆构成，三个半圆的直径分别为直角三角形$ABC$的斜边$BC$, 直角边$AB$, $AC$.$\\bigtriangleup ABC$的三边所围成的区域记为$I$,黑色部分记为$II$, 其余部分记为$III$.在整个图形中随机取一点，此点取自$I,II,III$的概率分别记为$p_1,p_2,p_3$,则$\\SIFChoice$$\\FigureID{1}$\",\n",
    "    r\"题目二: 如图来自古希腊数学家希波克拉底所研究的几何图形．此图由三个半圆构成，三个半圆的直径分别为直角三角形$ABC$的斜边$BC$, 直角边$AB$, $AC$.$\\bigtriangleup ABC$的三边所围成的区域记为$I$,黑色部分记为$II$, 其余部分记为$III$.在整个图形中随机取一点，此点取自$I,II,III$的概率分别记为$p_1,p_2,p_3$,则$\\SIFChoice$$\\FigureID{1}$\"\n",
    "]\n",
    "\n",
    "tokenizer = PureTextTokenizer()\n",
    "token_items = [item for item in tokenizer(raw_items)]\n",
    "\n",
    "print(token_items)"
   ]
  },
  {
   "cell_type": "markdown",
   "metadata": {},
   "source": [
    "## 向量化"
   ]
  },
  {
   "cell_type": "code",
   "execution_count": 3,
   "metadata": {},
   "outputs": [
    {
     "name": "stdout",
     "output_type": "stream",
     "text": [
      "256\n"
     ]
    }
   ],
   "source": [
    "path = \"../test_model/d2v/d2v_test_256/d2v_test_256.bin\"\n",
    "t2v = T2V('d2v', filepath=path)\n",
    "# 或\n",
    "# t2v = D2V(path)\n",
    "\n",
    "embed_size = t2v.vector_size\n",
    "print(embed_size)"
   ]
  },
  {
   "cell_type": "markdown",
   "metadata": {},
   "source": [
    "> - 注意：Doc2vec没有实现infer_tokens"
   ]
  },
  {
   "cell_type": "code",
   "execution_count": 4,
   "metadata": {},
   "outputs": [
    {
     "name": "stdout",
     "output_type": "stream",
     "text": [
      "2 256\n"
     ]
    }
   ],
   "source": [
    "# item_vector = t2v(token_items)\n",
    "item_vector = t2v.infer_vector(token_items)\n",
    "print(len(item_vector), len(item_vector[0])) # [array(), ..., array()]"
   ]
  }
 ],
 "metadata": {
  "interpreter": {
   "hash": "2a09bcfc86f5d80d5adfb774779878f28f4d48d5a6d6c0020bcfd8afaf909ec6"
  },
  "kernelspec": {
   "display_name": "Python 3.6.13 ('data')",
   "language": "python",
   "name": "python3"
  },
  "language_info": {
   "codemirror_mode": {
    "name": "ipython",
    "version": 3
   },
   "file_extension": ".py",
   "mimetype": "text/x-python",
   "name": "python",
   "nbconvert_exporter": "python",
   "pygments_lexer": "ipython3",
   "version": "3.6.13"
  },
  "orig_nbformat": 4
 },
 "nbformat": 4,
 "nbformat_minor": 2
}
