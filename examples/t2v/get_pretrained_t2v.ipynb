{
 "cells": [
  {
   "cell_type": "markdown",
   "metadata": {},
   "source": [
    "# get_pretrained_t2v\n",
    "\n",
    "`get_pretrained_t2v` 是 `T2V` 模块的一个顶层接口，用于加载公开预训练模型到 `T2V` 向量化容器。\n",
    "\n",
    "## 概述\n",
    "\n",
    "使用EduNLP的公开预训练模型 将一组题目的令牌化序列表征为向量。\n",
    "\n",
    "- 优点：简单方便。\n",
    "- 缺点：只能使用项目中给定的模型，局限性较大。"
   ]
  },
  {
   "cell_type": "markdown",
   "metadata": {},
   "source": [
    "## 导入功能块"
   ]
  },
  {
   "cell_type": "code",
   "execution_count": 1,
   "metadata": {},
   "outputs": [
    {
     "name": "stderr",
     "output_type": "stream",
     "text": [
      "E:\\dev_env\\anaconda\\envs\\data\\lib\\site-packages\\gensim\\similarities\\__init__.py:15: UserWarning: The gensim.similarities.levenshtein submodule is disabled, because the optional Levenshtein package <https://pypi.org/project/python-Levenshtein/> is unavailable. Install Levenhstein (e.g. `pip install python-Levenshtein`) to suppress this warning.\n",
      "  warnings.warn(msg)\n"
     ]
    }
   ],
   "source": [
    "import tqdm\n",
    "\n",
    "from EduNLP.Tokenizer import PureTextTokenizer\n",
    "from EduNLP.Vector import get_pretrained_t2v"
   ]
  },
  {
   "cell_type": "markdown",
   "metadata": {},
   "source": [
    "## 输入\n",
    "\n",
    "类型：list  \n",
    "内容：一个题组中每个题目切分序列的组合。\n",
    "> 这里需要调用 `GensimWordTokenizer` 将题目文本（`str` 类型）转换成 tokens。"
   ]
  },
  {
   "cell_type": "code",
   "execution_count": 2,
   "metadata": {},
   "outputs": [
    {
     "name": "stdout",
     "output_type": "stream",
     "text": [
      "[['题目', '如图', '几何图形', '此图', '三个', '半圆', '三个', '半圆', '直径', '直角三角形', 'ABC', '斜边', 'BC', '直角', 'AB', 'AC', '\\\\bigtriangleup', 'ABC', '三边', '围成', '区域', '记', 'I', '黑色', '记', 'II', '其余部分', '记', 'III', '图形', '中', '随机', '取', '一点', '此点', '取自', 'I', ',', 'II', ',', 'III', '概率', '记', 'p', '_', '1', ',', 'p', '_', '2', ',', 'p', '_', '3', '[MARK]', '[FIGURE]'], ['题目', '二', '如图', '古希腊', '数学家', '希波', '克拉底', '研究', '几何图形', '此图', '三个', '半圆', '三个', '半圆', '直径', '直角三角形', 'ABC', '斜边', 'BC', '直角', 'AB', 'AC', '\\\\bigtriangleup', 'ABC', '三边', '围成', '区域', '记', 'I', '黑色', '记', 'II', '其余部分', '记', 'III', '图形', '中', '随机', '取', '一点', '此点', '取自', 'I', ',', 'II', ',', 'III', '概率', '记', 'p', '_', '1', ',', 'p', '_', '2', ',', 'p', '_', '3', '[MARK]', '[FIGURE]']]\n"
     ]
    }
   ],
   "source": [
    "raw_items = [\n",
    "    r\"题目一：如图几何图形．此图由三个半圆构成，三个半圆的直径分别为直角三角形$ABC$的斜边$BC$, 直角边$AB$, $AC$.$\\bigtriangleup ABC$的三边所围成的区域记为$I$,黑色部分记为$II$, 其余部分记为$III$.在整个图形中随机取一点，此点取自$I,II,III$的概率分别记为$p_1,p_2,p_3$,则$\\SIFChoice$$\\FigureID{1}$\",\n",
    "    r\"题目二: 如图来自古希腊数学家希波克拉底所研究的几何图形．此图由三个半圆构成，三个半圆的直径分别为直角三角形$ABC$的斜边$BC$, 直角边$AB$, $AC$.$\\bigtriangleup ABC$的三边所围成的区域记为$I$,黑色部分记为$II$, 其余部分记为$III$.在整个图形中随机取一点，此点取自$I,II,III$的概率分别记为$p_1,p_2,p_3$,则$\\SIFChoice$$\\FigureID{1}$\"\n",
    "]\n",
    "\n",
    "tokenizer = PureTextTokenizer()\n",
    "token_items = [t for t in tokenizer(raw_items)]\n",
    "\n",
    "print(token_items)"
   ]
  },
  {
   "cell_type": "markdown",
   "metadata": {},
   "source": [
    "## 模型的选择与使用\n",
    "\n",
    "根据题目所属学科选择预训练模型：    \n",
    "\n",
    " 预训练模型名称 | 模型训练数据的所属学科   \n",
    " -------------- | ----------------------             \n",
    "  d2v_math_300      | 数学             \n",
    "  w2v_math_300      | 数学        \n",
    "  elmo_math_2048 | 数学      \n",
    "  bert_math_768 | 数学 \n",
    "  bert_taledu_768 | 数学 \n",
    "  disenq_math_256 | 数学 \n",
    "  quesnet_math_512 | 数学                      "
   ]
  },
  {
   "cell_type": "code",
   "execution_count": 3,
   "metadata": {},
   "outputs": [
    {
     "name": "stderr",
     "output_type": "stream",
     "text": [
      "downloader, INFO http://base.ustc.edu.cn/data/model_zoo/EduNLP/w2v/w2v_test_256.zip is saved as ..\\test_model\\data\\w2v\\w2v_test_256.zip\n",
      "downloader, INFO file existed, skipped\n"
     ]
    }
   ],
   "source": [
    "# make a model -> t2v\n",
    "model_dir = \"../test_model/w2v\"\n",
    "# model_dir = \"the/path/to/save/model\"\n",
    "t2v = get_pretrained_t2v(\"test_w2v\", model_dir=model_dir)"
   ]
  },
  {
   "cell_type": "markdown",
   "metadata": {},
   "source": [
    "- 注意：\n",
    "    可通过model_dir指定用于保存模型的目录。默认的 EduNLP 项目根目录(`~/.EduNLP`)下的 `model` 文件夹。"
   ]
  },
  {
   "cell_type": "code",
   "execution_count": 9,
   "metadata": {},
   "outputs": [
    {
     "name": "stdout",
     "output_type": "stream",
     "text": [
      "2 256\n",
      "2 56 256\n"
     ]
    }
   ],
   "source": [
    "# item_vector = t2v(token_items)\n",
    "\n",
    "item_vector = t2v.infer_vector(token_items) # [array(), ..., array()]\n",
    "token_vector = t2v.infer_tokens(token_items) # [ [array(), ..., array()], [...], [...]]\n",
    "\n",
    "print(len(item_vector), len(item_vector[0])) \n",
    "print(len(token_vector), len(token_vector[0]), len(token_vector[0][0]))"
   ]
  }
 ],
 "metadata": {
  "interpreter": {
   "hash": "e7370f93d1d0cde622a1f8e1c04877d8463912d04d973331ad4851f04de6915a"
  },
  "kernelspec": {
   "display_name": "Python 3.8.5 64-bit",
   "name": "python3"
  },
  "language_info": {
   "codemirror_mode": {
    "name": "ipython",
    "version": 3
   },
   "file_extension": ".py",
   "mimetype": "text/x-python",
   "name": "python",
   "nbconvert_exporter": "python",
   "pygments_lexer": "ipython3",
   "version": "3.6.2"
  },
  "orig_nbformat": 4
 },
 "nbformat": 4,
 "nbformat_minor": 2
}
