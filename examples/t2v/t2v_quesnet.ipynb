{
 "cells": [
  {
   "cell_type": "markdown",
   "metadata": {},
   "source": [
    "# 使用QuesNet向量化容器\n",
    "## 导入功能块"
   ]
  },
  {
   "cell_type": "code",
   "execution_count": 1,
   "metadata": {},
   "outputs": [
    {
     "name": "stderr",
     "output_type": "stream",
     "text": [
      "d:\\MySoftwares\\Anaconda\\envs\\data\\lib\\site-packages\\gensim\\similarities\\__init__.py:15: UserWarning: The gensim.similarities.levenshtein submodule is disabled, because the optional Levenshtein package <https://pypi.org/project/python-Levenshtein/> is unavailable. Install Levenhstein (e.g. `pip install python-Levenshtein`) to suppress this warning.\n",
      "  warnings.warn(msg)\n"
     ]
    }
   ],
   "source": [
    "from EduNLP.Pretrain import QuesNetTokenizer, Question\n",
    "from EduNLP.Vector import T2V, QuesNetModel\n",
    "import os"
   ]
  },
  {
   "cell_type": "code",
   "execution_count": 2,
   "metadata": {},
   "outputs": [],
   "source": [
    "BASE_DIR = \"../..\"\n",
    "data_dir = f\"{BASE_DIR}/static/test_data\"\n",
    "output_dir = f\"{BASE_DIR}/examples/test_model/quesnet/quesnet_test\"\n",
    "\n",
    "raw_data = [\n",
    "  {\"ques_content\": \"已知集合$A=\\\\left\\\\{x \\\\mid x^{2}-3 x-4<0\\\\right\\\\}, \\\\quad B=\\\\{-4,1,3,5\\\\}, \\\\quad$ 则 $A \\\\cap B=$\", \"ques_subject\": 1, \"ques_id\": \"726cdbec-33a9-11ec-909c-98fa9b625adb\", \"ques_type\": 7, \"ques_system\": 10, \"ques_period\": 2, \"ques_options\": [\"\\\\\\\\{-4,1\\\\\\\\}\", \"\\\\\\\\{1,5\\\\\\\\}\", \"\\\\\\\\{3,5\\\\\\\\}\", \"\\\\\\\\{1,3\\\\\\\\}\"], \"ques_answer\": \"D\", \"know_list\": [0, 10, 57], \"know_name\": [\"代数\", \"集合\", \"集合的相等\"], \"difficulty\": 0.424379, \"ques_figure_ids\": None, \"ques_figure_paths\": None},\n",
    "  {\"ques_content\": \"若复数$z=1+2 i+i^{3}$，则$|z|=$\", \"ques_subject\": 1, \"ques_id\": \"726e139c-33a9-11ec-bd9e-98fa9b625adb\", \"ques_type\": 7, \"ques_system\": 10, \"ques_period\": 2, \"ques_options\": [\"0\", \"1\", \"$\\\\\\\\sqrt{2}$\", \"2\"], \"ques_answer\": \"C\", \"know_list\": [0, 19, 269], \"know_name\": [\"代数\", \"数系的扩充与复数\", \"复数代数形式的加减运算\"], \"difficulty\": 0.566538, \"ques_figure_ids\": None, \"ques_figure_paths\": None}\n",
    "]"
   ]
  },
  {
   "cell_type": "markdown",
   "metadata": {},
   "source": [
    "## 令牌化"
   ]
  },
  {
   "cell_type": "code",
   "execution_count": 3,
   "metadata": {},
   "outputs": [
    {
     "name": "stdout",
     "output_type": "stream",
     "text": [
      "['已知', '集合', 'A', '=', '\\\\left', '\\\\{', 'x', '\\\\mid', 'x', '^', '{', '2', '}', '-', '3', 'x', '-', '4', '<', '0', '\\\\right', '\\\\}', ',', '\\\\quad', 'B', '=', '\\\\{', '-', '4', ',', '1', ',', '3', ',', '5', '\\\\}', ',', '\\\\quad', 'A', '\\\\cap', 'B', '=']\n",
      "\n",
      "[['已知', '集合', 'A', '=', '\\\\left', '\\\\{', 'x', '\\\\mid', 'x', '^', '{', '2', '}', '-', '3', 'x', '-', '4', '<', '0', '\\\\right', '\\\\}', ',', '\\\\quad', 'B', '=', '\\\\{', '-', '4', ',', '1', ',', '3', ',', '5', '\\\\}', ',', '\\\\quad', 'A', '\\\\cap', 'B', '='], ['复数', 'z', '=', '1', '+', '2', 'i', '+', 'i', '^', '{', '3', '}', '|', 'z', '|', '=']]\n",
      "\n",
      "{'content_idx': [0, 0, 0, 12, 18, 0, 29, 0, 29, 24, 31, 9, 32, 7, 0, 29, 7, 0, 0, 0, 22, 0, 6, 0, 0, 12, 0, 7, 0, 6, 8, 6, 0, 6, 0, 0, 6, 0, 0, 0, 0, 12, 2, 2, 2, 2, 2, 2, 2, 2], 'meta_idx': {'know_name': [0, 0, 0]}, 'content': ['已知', '集合', 'A', '=', '\\\\left', '\\\\{', 'x', '\\\\mid', 'x', '^', '{', '2', '}', '-', '3', 'x', '-', '4', '<', '0', '\\\\right', '\\\\}', ',', '\\\\quad', 'B', '=', '\\\\{', '-', '4', ',', '1', ',', '3', ',', '5', '\\\\}', ',', '\\\\quad', 'A', '\\\\cap', 'B', '='], 'meta': {'know_name': ['代数', '集合', '集合的相等']}}\n",
      "\n",
      "{'content_idx': [[0, 0, 0, 12, 18, 0, 29, 0, 29, 24, 31, 9, 32, 7, 0, 29, 7, 0, 0, 0, 22, 0, 6, 0, 0, 12, 0, 7, 0, 6, 8, 6, 0, 6, 0, 0, 6, 0, 0, 0, 0, 12, 2, 2, 2, 2, 2, 2, 2, 2], [0, 0, 12, 8, 5, 9, 27, 5, 27, 24, 31, 0, 32, 0, 0, 0, 12, 2, 2, 2, 2, 2, 2, 2, 2, 2, 2, 2, 2, 2, 2, 2, 2, 2, 2, 2, 2, 2, 2, 2, 2, 2, 2, 2, 2, 2, 2, 2, 2, 2]], 'meta_idx': [{'know_name': [0, 0, 0]}, {'know_name': [0, 0, 0]}]}\n"
     ]
    }
   ],
   "source": [
    "# 读取保存的tokenizer\n",
    "tokenizer = QuesNetTokenizer.from_pretrained(output_dir,\n",
    "                                             img_dir=os.path.join(data_dir, \"quesnet_img\"))\n",
    "\n",
    "# 可以处理单个题目\n",
    "print(tokenizer.tokenize(raw_data[0], key=lambda x: x['ques_content']))\n",
    "print()\n",
    "# 也可以处理题目列表\n",
    "print(tokenizer.tokenize(raw_data[:5], key=lambda x: x['ques_content']))\n",
    "\n",
    "print()\n",
    "\n",
    "# 将token转换为index\n",
    "print(tokenizer(raw_data[0], key=lambda x: x['ques_content'], return_text=True, padding=True))\n",
    "print()\n",
    "print(tokenizer(raw_data[:3], key=lambda x: x['ques_content'], padding=True))\n",
    "\n",
    "\n",
    "token_items = tokenizer(raw_data, key=lambda x: x['ques_content'])"
   ]
  },
  {
   "cell_type": "markdown",
   "metadata": {},
   "source": [
    "## 向量化"
   ]
  },
  {
   "cell_type": "code",
   "execution_count": 4,
   "metadata": {},
   "outputs": [
    {
     "name": "stdout",
     "output_type": "stream",
     "text": [
      "torch.Size([2, 256])\n",
      "torch.Size([2, 43, 256])\n",
      "\n"
     ]
    }
   ],
   "source": [
    "t2v = QuesNetModel(output_dir)\n",
    "\n",
    "# 转化Tokenizer输出格式\n",
    "content = token_items['content_idx']\n",
    "meta_idx = token_items['meta_idx']\n",
    "qs = [Question(\"\", content[i], [0], [[0], [0], [0]], meta_idx[i]) for i in range(len(token_items))]\n",
    "\n",
    "# 向量化\n",
    "i_vec = t2v.infer_vector(qs)\n",
    "t_vec = t2v.infer_tokens(qs)\n",
    "print(i_vec.shape)\n",
    "print(t_vec.shape)\n",
    "print()"
   ]
  }
 ],
 "metadata": {
  "interpreter": {
   "hash": "2a09bcfc86f5d80d5adfb774779878f28f4d48d5a6d6c0020bcfd8afaf909ec6"
  },
  "kernelspec": {
   "display_name": "Python 3.6.13 ('data')",
   "language": "python",
   "name": "python3"
  },
  "language_info": {
   "codemirror_mode": {
    "name": "ipython",
    "version": 3
   },
   "file_extension": ".py",
   "mimetype": "text/x-python",
   "name": "python",
   "nbconvert_exporter": "python",
   "pygments_lexer": "ipython3",
   "version": "3.6.13"
  },
  "orig_nbformat": 4
 },
 "nbformat": 4,
 "nbformat_minor": 2
}
