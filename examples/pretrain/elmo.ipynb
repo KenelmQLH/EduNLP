{
 "cells": [
  {
   "cell_type": "code",
   "execution_count": 1,
   "metadata": {},
   "outputs": [],
   "source": [
    "import torch\n",
    "import numpy as np\n",
    "import os\n",
    "import json\n",
    "from EduNLP.ModelZoo.rnn import ElmoLM\n",
    "from EduNLP.Pretrain import train_elmo, ElmoTokenizer\n",
    "from EduNLP.Vector import ElmoModel, T2V\n",
    "from EduNLP.I2V import Elmo, get_pretrained_i2v\n",
    "\n",
    "os.environ[\"WANDB_DISABLED\"] = \"true\""
   ]
  },
  {
   "cell_type": "markdown",
   "metadata": {},
   "source": [
    "# 训练自己的 Elmo 模型\n",
    "## 1. 数据"
   ]
  },
  {
   "cell_type": "code",
   "execution_count": 2,
   "metadata": {},
   "outputs": [],
   "source": [
    "# 设置你的数据路径和输出路径\n",
    "BASE_DIR = \"../..\"\n",
    "\n",
    "data_dir = f\"{BASE_DIR}/static/test_data\"\n",
    "output_dir = f\"{BASE_DIR}/data/pretrain_test_models/elmo/\""
   ]
  },
  {
   "cell_type": "code",
   "execution_count": 3,
   "metadata": {},
   "outputs": [],
   "source": [
    "def stem_data():\n",
    "    _data = []\n",
    "    data_path = os.path.join(data_dir, \"standard_luna_data.json\")\n",
    "    with open(data_path, encoding=\"utf-8\") as f:\n",
    "        for line in f.readlines():\n",
    "            _data.append(json.loads(line))\n",
    "    return _data\n",
    "\n",
    "train_items = stem_data()"
   ]
  },
  {
   "cell_type": "markdown",
   "metadata": {},
   "source": [
    "## 2. 训练和评估"
   ]
  },
  {
   "cell_type": "code",
   "execution_count": 4,
   "metadata": {},
   "outputs": [
    {
     "data": {
      "application/vnd.jupyter.widget-view+json": {
       "model_id": "61db24361e884a2c9afa49da9a763a34",
       "version_major": 2,
       "version_minor": 0
      },
      "text/plain": [
       "  0%|          | 0/1 [00:00<?, ?ba/s]"
      ]
     },
     "metadata": {},
     "output_type": "display_data"
    },
    {
     "name": "stderr",
     "output_type": "stream",
     "text": [
      "Using the `WANDB_DISABLED` environment variable is deprecated and will be removed in v5. Use the --report_to flag to control the integrations used for logging result (for instance --report_to none).\n",
      "d:\\Python\\lib\\site-packages\\transformers\\optimization.py:306: FutureWarning: This implementation of AdamW is deprecated and will be removed in a future version. Use the PyTorch implementation torch.optim.AdamW instead, or set `no_deprecation_warning=True` to disable this warning\n",
      "  warnings.warn(\n",
      "***** Running training *****\n",
      "  Num examples = 25\n",
      "  Num Epochs = 1\n",
      "  Instantaneous batch size per device = 8\n",
      "  Total train batch size (w. parallel, distributed & accumulation) = 8\n",
      "  Gradient Accumulation steps = 1\n",
      "  Total optimization steps = 4\n"
     ]
    },
    {
     "data": {
      "application/vnd.jupyter.widget-view+json": {
       "model_id": "c207079389934373b2ff4aa4689b127e",
       "version_major": 2,
       "version_minor": 0
      },
      "text/plain": [
       "  0%|          | 0/4 [00:00<?, ?it/s]"
      ]
     },
     "metadata": {},
     "output_type": "display_data"
    },
    {
     "name": "stderr",
     "output_type": "stream",
     "text": [
      "\n",
      "\n",
      "Training completed. Do not forget to share your model on huggingface.co/models =)\n",
      "\n",
      "\n",
      "Saving model checkpoint to ../../data/pretrain_test_models/elmo/\n",
      "Trainer.model is not a `PreTrainedModel`, only saving its state dict.\n"
     ]
    },
    {
     "name": "stdout",
     "output_type": "stream",
     "text": [
      "{'train_runtime': 6.0807, 'train_samples_per_second': 4.111, 'train_steps_per_second': 0.658, 'train_loss': 11.407991409301758, 'epoch': 1.0}\n"
     ]
    },
    {
     "data": {
      "text/plain": [
       "'../../data/pretrain_test_models/elmo/'"
      ]
     },
     "execution_count": 4,
     "metadata": {},
     "output_type": "execute_result"
    }
   ],
   "source": [
    "# 自定义训练参数\n",
    "train_params = {\n",
    "  # \"emb_dim\": 128,\n",
    "  # \"hid_dim\": 256,\n",
    "  # \"batch_size\": 4,\n",
    "  # \"epochs\": 1,\n",
    "  # \"lr\": 5e-3,\n",
    "  # \"device\": None,\n",
    "  \n",
    "  \"num_train_epochs\": 1,\n",
    "  \"per_device_train_batch_size\": 8,\n",
    "  \"save_steps\": 50,\n",
    "  \"save_total_limit\": 2,\n",
    "  \"logging_steps\": 5,\n",
    "  \"gradient_accumulation_steps\": 1,\n",
    "  \"learning_rate\": 5e-4,\n",
    "}\n",
    "\n",
    "train_elmo(train_items, output_dir, train_params=train_params)"
   ]
  },
  {
   "cell_type": "markdown",
   "metadata": {},
   "source": [
    "\n",
    "## 3.使用模型"
   ]
  },
  {
   "cell_type": "code",
   "execution_count": 5,
   "metadata": {},
   "outputs": [],
   "source": [
    "test_items = [\n",
    "    {'ques_content': '有公式$\\\\FormFigureID{wrong1?}$和公式$\\\\FormFigureBase64{wrong2?}$，\\\n",
    "            如图$\\\\FigureID{088f15ea-8b7c-11eb-897e-b46bfc50aa29}$,\\\n",
    "            若$x,y$满足约束条件$\\\\SIFSep$，则$z=x+7 y$的最大值为$\\\\SIFBlank$'},\n",
    "    {'ques_content': '如图$\\\\FigureID{088f15ea-8b7c-11eb-897e-b46bfc50aa29}$, \\\n",
    "            若$x,y$满足约束条件$\\\\SIFSep$，则$z=x+7 y$的最大值为$\\\\SIFBlank$'},\n",
    "    {'ques_content': \"已知集合$A=\\\\left\\\\{x \\\\mid x^2-3 x-4<0\\\\right\\\\}, \\\n",
    "            \\\\quad B=\\\\{-4,1,3,5\\\\}, \\\\quad$ 则$A \\\\cap B$的值为\"}\n",
    "]"
   ]
  },
  {
   "cell_type": "markdown",
   "metadata": {},
   "source": [
    "### 3.1 直接加载令牌容器和模型"
   ]
  },
  {
   "cell_type": "code",
   "execution_count": 6,
   "metadata": {},
   "outputs": [
    {
     "name": "stderr",
     "output_type": "stream",
     "text": [
      "[EduNLP, INFO] All the weights of ElmoLM were initialized from the model checkpoint at ../../data/pretrain_test_models/elmo/.\n",
      "If your task is similar to the task the model of the checkpoint was trained on, you can already use ElmoLM for predictions without further training.\n"
     ]
    },
    {
     "data": {
      "text/plain": [
       "ElmoLMOutput([('pred_forward',\n",
       "               tensor([[[ 0.0711,  0.0329, -0.0712,  ..., -0.0264, -0.1005, -0.0407],\n",
       "                        [ 0.0061, -0.0306, -0.0051,  ..., -0.0114, -0.0032, -0.0349],\n",
       "                        [ 0.1096,  0.0290, -0.0693,  ..., -0.0570, -0.0247,  0.0044],\n",
       "                        ...,\n",
       "                        [ 0.1481,  0.0452, -0.1055,  ..., -0.0555, -0.0767,  0.0661],\n",
       "                        [ 0.0716,  0.0912, -0.1071,  ...,  0.0242, -0.0758, -0.0357],\n",
       "                        [ 0.0827,  0.0552, -0.0762,  ..., -0.0408, -0.0744, -0.0262]],\n",
       "               \n",
       "                       [[ 0.1062,  0.0579, -0.0643,  ..., -0.0324, -0.0232, -0.0349],\n",
       "                        [ 0.0868,  0.0312, -0.0822,  ..., -0.0020, -0.0091, -0.0700],\n",
       "                        [ 0.1125,  0.0201, -0.0719,  ...,  0.0029,  0.0186, -0.0363],\n",
       "                        ...,\n",
       "                        [ 0.1114,  0.0602, -0.1583,  ..., -0.0303, -0.0600,  0.0948],\n",
       "                        [ 0.0419,  0.1049, -0.0596,  ..., -0.0189, -0.0814, -0.0520],\n",
       "                        [ 0.0501,  0.1168, -0.0691,  ..., -0.0984, -0.0533, -0.0235]],\n",
       "               \n",
       "                       [[ 0.0672,  0.0148, -0.0569,  ..., -0.0266, -0.0174, -0.0219],\n",
       "                        [ 0.0720,  0.0492, -0.0631,  ..., -0.0412, -0.0630,  0.0013],\n",
       "                        [ 0.0855, -0.0110, -0.0375,  ..., -0.0351, -0.0529,  0.0157],\n",
       "                        ...,\n",
       "                        [ 0.0762,  0.0759, -0.1092,  ..., -0.0122, -0.0106, -0.0244],\n",
       "                        [ 0.0645,  0.0291, -0.0375,  ...,  0.0679, -0.0355, -0.0641],\n",
       "                        [ 0.0662, -0.0179, -0.0891,  ...,  0.0201, -0.1426, -0.0784]]],\n",
       "                      grad_fn=<AddBackward0>)),\n",
       "              ('pred_backward',\n",
       "               tensor([[[ 0.0234,  0.1047, -0.0536,  ..., -0.0171, -0.0128, -0.0605],\n",
       "                        [-0.0068,  0.0303,  0.0163,  ..., -0.0942,  0.0654, -0.0579],\n",
       "                        [ 0.0557,  0.0071,  0.0101,  ..., -0.0561,  0.0616, -0.0876],\n",
       "                        ...,\n",
       "                        [ 0.0519,  0.0378, -0.0327,  ..., -0.1284,  0.0048, -0.0229],\n",
       "                        [-0.0160,  0.0545, -0.0757,  ..., -0.0941,  0.0836, -0.1315],\n",
       "                        [ 0.0352,  0.0916, -0.0496,  ..., -0.0285,  0.0186, -0.0224]],\n",
       "               \n",
       "                       [[ 0.0496,  0.0326, -0.0129,  ..., -0.0445,  0.0625,  0.0189],\n",
       "                        [ 0.0689, -0.0045, -0.0074,  ..., -0.0153,  0.0262, -0.0299],\n",
       "                        [ 0.0666,  0.0153,  0.0262,  ...,  0.0059,  0.0119, -0.0389],\n",
       "                        ...,\n",
       "                        [ 0.1460,  0.0500, -0.0339,  ..., -0.0727,  0.0596, -0.0661],\n",
       "                        [ 0.0645,  0.0938, -0.1104,  ..., -0.0289,  0.0455, -0.0237],\n",
       "                        [ 0.0615,  0.0636, -0.0324,  ..., -0.0493,  0.0068, -0.0943]],\n",
       "               \n",
       "                       [[ 0.0158, -0.0638, -0.0396,  ..., -0.0096,  0.0262, -0.1232],\n",
       "                        [-0.0435,  0.0340, -0.0057,  ..., -0.0244,  0.0026, -0.0983],\n",
       "                        [ 0.0040, -0.0304,  0.0170,  ..., -0.0180,  0.0870, -0.0113],\n",
       "                        ...,\n",
       "                        [ 0.0573,  0.0493, -0.0671,  ..., -0.0616,  0.0196, -0.1015],\n",
       "                        [ 0.0706,  0.0408, -0.0901,  ..., -0.0936, -0.0135, -0.0921],\n",
       "                        [ 0.0457,  0.0396, -0.0590,  ..., -0.0374, -0.0249, -0.0366]]],\n",
       "                      grad_fn=<AddBackward0>)),\n",
       "              ('forward_output',\n",
       "               tensor([[[-0.0924, -0.0421, -0.0661,  ..., -0.0665,  0.1159, -0.0280],\n",
       "                        [-0.1087, -0.0000, -0.0000,  ..., -0.0000,  0.1857, -0.0293],\n",
       "                        [-0.0355, -0.0000, -0.0633,  ..., -0.0511,  0.1168, -0.0000],\n",
       "                        ...,\n",
       "                        [-0.0000,  0.0000, -0.0000,  ..., -0.2271, -0.0000, -0.2146],\n",
       "                        [-0.0000,  0.1337, -0.0176,  ..., -0.2284, -0.0000, -0.0000],\n",
       "                        [-0.0000,  0.0000, -0.0284,  ..., -0.0000, -0.0000, -0.1894]],\n",
       "               \n",
       "                       [[ 0.0000, -0.0000, -0.0000,  ..., -0.0000, -0.0450,  0.0104],\n",
       "                        [ 0.0000, -0.0000, -0.0000,  ..., -0.0996, -0.0563,  0.0000],\n",
       "                        [ 0.0000,  0.0065, -0.0854,  ..., -0.1308, -0.0000,  0.0000],\n",
       "                        ...,\n",
       "                        [-0.0000,  0.1395, -0.0114,  ..., -0.0000, -0.0471, -0.0000],\n",
       "                        [-0.0000,  0.0000, -0.0000,  ..., -0.2284, -0.0000, -0.2050],\n",
       "                        [-0.0000,  0.0000, -0.0000,  ..., -0.0000, -0.0336, -0.0000]],\n",
       "               \n",
       "                       [[ 0.0004, -0.0000, -0.0000,  ..., -0.0292,  0.0000, -0.0000],\n",
       "                        [ 0.0579, -0.0492, -0.0965,  ...,  0.0027,  0.0886, -0.0000],\n",
       "                        [ 0.0000, -0.0871, -0.0444,  ..., -0.0000,  0.0000, -0.0431],\n",
       "                        ...,\n",
       "                        [ 0.0170,  0.0000, -0.0000,  ..., -0.1751,  0.0000, -0.0310],\n",
       "                        [ 0.0381,  0.0000, -0.2391,  ..., -0.0872,  0.0000, -0.0099],\n",
       "                        [-0.0000,  0.0091, -0.1609,  ..., -0.0639,  0.1220,  0.0066]]],\n",
       "                      grad_fn=<MulBackward0>)),\n",
       "              ('backward_output',\n",
       "               tensor([[[-0.0000,  0.0000,  0.0386,  ..., -0.0000, -0.0000, -0.0057],\n",
       "                        [-0.0000,  0.0177,  0.0477,  ...,  0.0000,  0.0000,  0.0000],\n",
       "                        [-0.0000, -0.0000,  0.0839,  ...,  0.0390,  0.0115,  0.0000],\n",
       "                        ...,\n",
       "                        [ 0.0000,  0.0000,  0.0000,  ..., -0.0000,  0.1191, -0.1566],\n",
       "                        [ 0.0000,  0.0757,  0.0000,  ..., -0.0000,  0.0000, -0.1249],\n",
       "                        [ 0.0000,  0.0503,  0.0198,  ..., -0.0000,  0.0000, -0.0000]],\n",
       "               \n",
       "                       [[-0.0000, -0.0648,  0.1330,  ...,  0.0615, -0.0254,  0.0649],\n",
       "                        [-0.0233, -0.0000,  0.1408,  ..., -0.0034,  0.0000,  0.0000],\n",
       "                        [-0.0000, -0.0000,  0.0000,  ...,  0.0000, -0.0000,  0.1536],\n",
       "                        ...,\n",
       "                        [ 0.0440,  0.0000,  0.0605,  ..., -0.3540,  0.0000, -0.1566],\n",
       "                        [ 0.0000,  0.0000,  0.0398,  ..., -0.2861,  0.0883, -0.0000],\n",
       "                        [ 0.0323,  0.0000,  0.0197,  ..., -0.1775,  0.0000, -0.0000]],\n",
       "               \n",
       "                       [[-0.0000, -0.0000,  0.1379,  ..., -0.0000,  0.0447,  0.0000],\n",
       "                        [-0.0706, -0.0000,  0.0000,  ...,  0.0000,  0.0000,  0.0000],\n",
       "                        [-0.0000,  0.0316,  0.1149,  ...,  0.1194,  0.1075,  0.0561],\n",
       "                        ...,\n",
       "                        [-0.0000,  0.1146, -0.0000,  ..., -0.1578,  0.0000, -0.0183],\n",
       "                        [-0.0000,  0.0000,  0.0000,  ...,  0.0012,  0.0000, -0.0000],\n",
       "                        [-0.0817,  0.0872, -0.0064,  ..., -0.0502,  0.0031,  0.0000]]],\n",
       "                      grad_fn=<MulBackward0>))])"
      ]
     },
     "execution_count": 6,
     "metadata": {},
     "output_type": "execute_result"
    }
   ],
   "source": [
    "pretrained_model_dir = output_dir\n",
    "\n",
    "model = ElmoLM.from_pretrained(pretrained_model_dir)\n",
    "tokenizer = ElmoTokenizer.from_pretrained(pretrained_model_dir)\n",
    "\n",
    "encodes = tokenizer(test_items, lambda x: x['ques_content'])\n",
    "model(**encodes)"
   ]
  },
  {
   "cell_type": "markdown",
   "metadata": {},
   "source": [
    "### 3.2 使用 I2V 向量化"
   ]
  },
  {
   "cell_type": "code",
   "execution_count": 7,
   "metadata": {},
   "outputs": [
    {
     "name": "stderr",
     "output_type": "stream",
     "text": [
      "[EduNLP, INFO] All the weights of ElmoLM were initialized from the model checkpoint at ../../data/pretrain_test_models/elmo/.\n",
      "If your task is similar to the task the model of the checkpoint was trained on, you can already use ElmoLM for predictions without further training.\n",
      "d:\\Python\\lib\\site-packages\\EduNLP\\Vector\\elmo_vec.py:37: UserWarning: To copy construct from a tensor, it is recommended to use sourceTensor.clone().detach() or sourceTensor.clone().detach().requires_grad_(True), rather than torch.tensor(sourceTensor).\n",
      "  (outputs.forward_output[torch.arange(len(items[\"seq_len\"])), torch.tensor(items[\"seq_len\"]) - 1],\n"
     ]
    },
    {
     "name": "stdout",
     "output_type": "stream",
     "text": [
      "torch.Size([1, 600])\n",
      "torch.Size([1, 17, 600])\n",
      "torch.Size([3, 600])\n",
      "torch.Size([3, 40, 600])\n"
     ]
    }
   ],
   "source": [
    "tokenizer_kwargs = {\"tokenizer_config_dir\": pretrained_model_dir}\n",
    "i2v = Elmo('elmo', 'elmo', output_dir, tokenizer_kwargs=tokenizer_kwargs)\n",
    "\n",
    "# 可以对单个题目进行表征\n",
    "i_vec, t_vec = i2v(test_items[0], key=lambda x: x[\"ques_content\"])\n",
    "print(i_vec.shape) # == torch.Size([x])\n",
    "print(t_vec.shape) # == torch.Size([x, x])\n",
    "\n",
    "# 也可以对题目列表进行表征\n",
    "i_vec, t_vec = i2v(test_items, key=lambda x: x[\"ques_content\"])\n",
    "print(i_vec.shape) # == torch.Size([len(test_items), x])\n",
    "print(t_vec.shape) # == torch.Size([len(test_items), x, x]))\n"
   ]
  },
  {
   "cell_type": "markdown",
   "metadata": {},
   "source": [
    "### 3.3 使用 Tokenizer 和 T2V 向量化"
   ]
  },
  {
   "cell_type": "code",
   "execution_count": 8,
   "metadata": {},
   "outputs": [
    {
     "name": "stderr",
     "output_type": "stream",
     "text": [
      "[EduNLP, INFO] All the weights of ElmoLM were initialized from the model checkpoint at ../../data/pretrain_test_models/elmo/.\n",
      "If your task is similar to the task the model of the checkpoint was trained on, you can already use ElmoLM for predictions without further training.\n"
     ]
    },
    {
     "name": "stdout",
     "output_type": "stream",
     "text": [
      "torch.Size([3, 600])\n",
      "\n",
      "torch.Size([3, 600])\n",
      "torch.Size([3, 40, 600])\n",
      "\n"
     ]
    }
   ],
   "source": [
    "# 加载之前训练的模型 tokenizer\n",
    "tokenizer = ElmoTokenizer.from_pretrained(pretrained_model_dir)\n",
    "encodes = tokenizer(test_items, key=lambda x: x['ques_content'])\n",
    "\n",
    "t2v = ElmoModel(pretrained_model_dir)\n",
    "\n",
    "i_vec = t2v(encodes)\n",
    "print(i_vec.shape) # == torch.Size([len(test_items), x])\n",
    "print()\n",
    "\n",
    "i_vec = t2v.infer_vector(encodes)\n",
    "t_vec = t2v.infer_tokens(encodes)\n",
    "print(i_vec.shape) # == torch.Size([len(test_items), x])\n",
    "print(t_vec.shape) # == torch.Size([len(test_items), x, x]))\n",
    "print()"
   ]
  },
  {
   "cell_type": "markdown",
   "metadata": {},
   "source": [
    "### 3.4 使用 EduNLP 中公开的预训练模型"
   ]
  },
  {
   "cell_type": "code",
   "execution_count": 12,
   "metadata": {},
   "outputs": [
    {
     "ename": "SSLError",
     "evalue": "HTTPSConnectionPool(host='modelhub-backend-269-production.env.bdaa.pro', port=443): Max retries exceeded with url: /v1/api/getPretrainedModelList (Caused by SSLError(SSLEOFError(8, 'EOF occurred in violation of protocol (_ssl.c:997)')))",
     "output_type": "error",
     "traceback": [
      "\u001b[1;31m---------------------------------------------------------------------------\u001b[0m",
      "\u001b[1;31mSSLEOFError\u001b[0m                               Traceback (most recent call last)",
      "File \u001b[1;32md:\\Python\\lib\\site-packages\\urllib3\\connectionpool.py:700\u001b[0m, in \u001b[0;36mHTTPConnectionPool.urlopen\u001b[1;34m(self, method, url, body, headers, retries, redirect, assert_same_host, timeout, pool_timeout, release_conn, chunked, body_pos, **response_kw)\u001b[0m\n\u001b[0;32m    699\u001b[0m \u001b[39mif\u001b[39;00m is_new_proxy_conn \u001b[39mand\u001b[39;00m http_tunnel_required:\n\u001b[1;32m--> 700\u001b[0m     \u001b[39mself\u001b[39;49m\u001b[39m.\u001b[39;49m_prepare_proxy(conn)\n\u001b[0;32m    702\u001b[0m \u001b[39m# Make the request on the httplib connection object.\u001b[39;00m\n",
      "File \u001b[1;32md:\\Python\\lib\\site-packages\\urllib3\\connectionpool.py:996\u001b[0m, in \u001b[0;36mHTTPSConnectionPool._prepare_proxy\u001b[1;34m(self, conn)\u001b[0m\n\u001b[0;32m    994\u001b[0m     conn\u001b[39m.\u001b[39mtls_in_tls_required \u001b[39m=\u001b[39m \u001b[39mTrue\u001b[39;00m\n\u001b[1;32m--> 996\u001b[0m conn\u001b[39m.\u001b[39;49mconnect()\n",
      "File \u001b[1;32md:\\Python\\lib\\site-packages\\urllib3\\connection.py:364\u001b[0m, in \u001b[0;36mHTTPSConnection.connect\u001b[1;34m(self)\u001b[0m\n\u001b[0;32m    363\u001b[0m \u001b[39mif\u001b[39;00m \u001b[39mself\u001b[39m\u001b[39m.\u001b[39mtls_in_tls_required:\n\u001b[1;32m--> 364\u001b[0m     \u001b[39mself\u001b[39m\u001b[39m.\u001b[39msock \u001b[39m=\u001b[39m conn \u001b[39m=\u001b[39m \u001b[39mself\u001b[39;49m\u001b[39m.\u001b[39;49m_connect_tls_proxy(hostname, conn)\n\u001b[0;32m    365\u001b[0m     tls_in_tls \u001b[39m=\u001b[39m \u001b[39mTrue\u001b[39;00m\n",
      "File \u001b[1;32md:\\Python\\lib\\site-packages\\urllib3\\connection.py:499\u001b[0m, in \u001b[0;36mHTTPSConnection._connect_tls_proxy\u001b[1;34m(self, hostname, conn)\u001b[0m\n\u001b[0;32m    497\u001b[0m \u001b[39m# If no cert was provided, use only the default options for server\u001b[39;00m\n\u001b[0;32m    498\u001b[0m \u001b[39m# certificate validation\u001b[39;00m\n\u001b[1;32m--> 499\u001b[0m socket \u001b[39m=\u001b[39m ssl_wrap_socket(\n\u001b[0;32m    500\u001b[0m     sock\u001b[39m=\u001b[39;49mconn,\n\u001b[0;32m    501\u001b[0m     ca_certs\u001b[39m=\u001b[39;49m\u001b[39mself\u001b[39;49m\u001b[39m.\u001b[39;49mca_certs,\n\u001b[0;32m    502\u001b[0m     ca_cert_dir\u001b[39m=\u001b[39;49m\u001b[39mself\u001b[39;49m\u001b[39m.\u001b[39;49mca_cert_dir,\n\u001b[0;32m    503\u001b[0m     ca_cert_data\u001b[39m=\u001b[39;49m\u001b[39mself\u001b[39;49m\u001b[39m.\u001b[39;49mca_cert_data,\n\u001b[0;32m    504\u001b[0m     server_hostname\u001b[39m=\u001b[39;49mhostname,\n\u001b[0;32m    505\u001b[0m     ssl_context\u001b[39m=\u001b[39;49mssl_context,\n\u001b[0;32m    506\u001b[0m )\n\u001b[0;32m    508\u001b[0m \u001b[39mif\u001b[39;00m ssl_context\u001b[39m.\u001b[39mverify_mode \u001b[39m!=\u001b[39m ssl\u001b[39m.\u001b[39mCERT_NONE \u001b[39mand\u001b[39;00m \u001b[39mnot\u001b[39;00m \u001b[39mgetattr\u001b[39m(\n\u001b[0;32m    509\u001b[0m     ssl_context, \u001b[39m\"\u001b[39m\u001b[39mcheck_hostname\u001b[39m\u001b[39m\"\u001b[39m, \u001b[39mFalse\u001b[39;00m\n\u001b[0;32m    510\u001b[0m ):\n\u001b[0;32m    511\u001b[0m     \u001b[39m# While urllib3 attempts to always turn off hostname matching from\u001b[39;00m\n\u001b[0;32m    512\u001b[0m     \u001b[39m# the TLS library, this cannot always be done. So we check whether\u001b[39;00m\n\u001b[0;32m    513\u001b[0m     \u001b[39m# the TLS Library still thinks it's matching hostnames.\u001b[39;00m\n",
      "File \u001b[1;32md:\\Python\\lib\\site-packages\\urllib3\\util\\ssl_.py:453\u001b[0m, in \u001b[0;36mssl_wrap_socket\u001b[1;34m(sock, keyfile, certfile, cert_reqs, ca_certs, server_hostname, ssl_version, ciphers, ssl_context, ca_cert_dir, key_password, ca_cert_data, tls_in_tls)\u001b[0m\n\u001b[0;32m    452\u001b[0m \u001b[39melse\u001b[39;00m:\n\u001b[1;32m--> 453\u001b[0m     ssl_sock \u001b[39m=\u001b[39m _ssl_wrap_socket_impl(sock, context, tls_in_tls)\n\u001b[0;32m    454\u001b[0m \u001b[39mreturn\u001b[39;00m ssl_sock\n",
      "File \u001b[1;32md:\\Python\\lib\\site-packages\\urllib3\\util\\ssl_.py:495\u001b[0m, in \u001b[0;36m_ssl_wrap_socket_impl\u001b[1;34m(sock, ssl_context, tls_in_tls, server_hostname)\u001b[0m\n\u001b[0;32m    494\u001b[0m \u001b[39melse\u001b[39;00m:\n\u001b[1;32m--> 495\u001b[0m     \u001b[39mreturn\u001b[39;00m ssl_context\u001b[39m.\u001b[39;49mwrap_socket(sock)\n",
      "File \u001b[1;32md:\\Python\\lib\\ssl.py:512\u001b[0m, in \u001b[0;36mSSLContext.wrap_socket\u001b[1;34m(self, sock, server_side, do_handshake_on_connect, suppress_ragged_eofs, server_hostname, session)\u001b[0m\n\u001b[0;32m    506\u001b[0m \u001b[39mdef\u001b[39;00m \u001b[39mwrap_socket\u001b[39m(\u001b[39mself\u001b[39m, sock, server_side\u001b[39m=\u001b[39m\u001b[39mFalse\u001b[39;00m,\n\u001b[0;32m    507\u001b[0m                 do_handshake_on_connect\u001b[39m=\u001b[39m\u001b[39mTrue\u001b[39;00m,\n\u001b[0;32m    508\u001b[0m                 suppress_ragged_eofs\u001b[39m=\u001b[39m\u001b[39mTrue\u001b[39;00m,\n\u001b[0;32m    509\u001b[0m                 server_hostname\u001b[39m=\u001b[39m\u001b[39mNone\u001b[39;00m, session\u001b[39m=\u001b[39m\u001b[39mNone\u001b[39;00m):\n\u001b[0;32m    510\u001b[0m     \u001b[39m# SSLSocket class handles server_hostname encoding before it calls\u001b[39;00m\n\u001b[0;32m    511\u001b[0m     \u001b[39m# ctx._wrap_socket()\u001b[39;00m\n\u001b[1;32m--> 512\u001b[0m     \u001b[39mreturn\u001b[39;00m \u001b[39mself\u001b[39;49m\u001b[39m.\u001b[39;49msslsocket_class\u001b[39m.\u001b[39;49m_create(\n\u001b[0;32m    513\u001b[0m         sock\u001b[39m=\u001b[39;49msock,\n\u001b[0;32m    514\u001b[0m         server_side\u001b[39m=\u001b[39;49mserver_side,\n\u001b[0;32m    515\u001b[0m         do_handshake_on_connect\u001b[39m=\u001b[39;49mdo_handshake_on_connect,\n\u001b[0;32m    516\u001b[0m         suppress_ragged_eofs\u001b[39m=\u001b[39;49msuppress_ragged_eofs,\n\u001b[0;32m    517\u001b[0m         server_hostname\u001b[39m=\u001b[39;49mserver_hostname,\n\u001b[0;32m    518\u001b[0m         context\u001b[39m=\u001b[39;49m\u001b[39mself\u001b[39;49m,\n\u001b[0;32m    519\u001b[0m         session\u001b[39m=\u001b[39;49msession\n\u001b[0;32m    520\u001b[0m     )\n",
      "File \u001b[1;32md:\\Python\\lib\\ssl.py:1070\u001b[0m, in \u001b[0;36mSSLSocket._create\u001b[1;34m(cls, sock, server_side, do_handshake_on_connect, suppress_ragged_eofs, server_hostname, context, session)\u001b[0m\n\u001b[0;32m   1069\u001b[0m             \u001b[39mraise\u001b[39;00m \u001b[39mValueError\u001b[39;00m(\u001b[39m\"\u001b[39m\u001b[39mdo_handshake_on_connect should not be specified for non-blocking sockets\u001b[39m\u001b[39m\"\u001b[39m)\n\u001b[1;32m-> 1070\u001b[0m         \u001b[39mself\u001b[39;49m\u001b[39m.\u001b[39;49mdo_handshake()\n\u001b[0;32m   1071\u001b[0m \u001b[39mexcept\u001b[39;00m (\u001b[39mOSError\u001b[39;00m, \u001b[39mValueError\u001b[39;00m):\n",
      "File \u001b[1;32md:\\Python\\lib\\ssl.py:1341\u001b[0m, in \u001b[0;36mSSLSocket.do_handshake\u001b[1;34m(self, block)\u001b[0m\n\u001b[0;32m   1340\u001b[0m         \u001b[39mself\u001b[39m\u001b[39m.\u001b[39msettimeout(\u001b[39mNone\u001b[39;00m)\n\u001b[1;32m-> 1341\u001b[0m     \u001b[39mself\u001b[39;49m\u001b[39m.\u001b[39;49m_sslobj\u001b[39m.\u001b[39;49mdo_handshake()\n\u001b[0;32m   1342\u001b[0m \u001b[39mfinally\u001b[39;00m:\n",
      "\u001b[1;31mSSLEOFError\u001b[0m: EOF occurred in violation of protocol (_ssl.c:997)",
      "\nDuring handling of the above exception, another exception occurred:\n",
      "\u001b[1;31mMaxRetryError\u001b[0m                             Traceback (most recent call last)",
      "File \u001b[1;32md:\\Python\\lib\\site-packages\\requests\\adapters.py:489\u001b[0m, in \u001b[0;36mHTTPAdapter.send\u001b[1;34m(self, request, stream, timeout, verify, cert, proxies)\u001b[0m\n\u001b[0;32m    488\u001b[0m \u001b[39mif\u001b[39;00m \u001b[39mnot\u001b[39;00m chunked:\n\u001b[1;32m--> 489\u001b[0m     resp \u001b[39m=\u001b[39m conn\u001b[39m.\u001b[39;49murlopen(\n\u001b[0;32m    490\u001b[0m         method\u001b[39m=\u001b[39;49mrequest\u001b[39m.\u001b[39;49mmethod,\n\u001b[0;32m    491\u001b[0m         url\u001b[39m=\u001b[39;49murl,\n\u001b[0;32m    492\u001b[0m         body\u001b[39m=\u001b[39;49mrequest\u001b[39m.\u001b[39;49mbody,\n\u001b[0;32m    493\u001b[0m         headers\u001b[39m=\u001b[39;49mrequest\u001b[39m.\u001b[39;49mheaders,\n\u001b[0;32m    494\u001b[0m         redirect\u001b[39m=\u001b[39;49m\u001b[39mFalse\u001b[39;49;00m,\n\u001b[0;32m    495\u001b[0m         assert_same_host\u001b[39m=\u001b[39;49m\u001b[39mFalse\u001b[39;49;00m,\n\u001b[0;32m    496\u001b[0m         preload_content\u001b[39m=\u001b[39;49m\u001b[39mFalse\u001b[39;49;00m,\n\u001b[0;32m    497\u001b[0m         decode_content\u001b[39m=\u001b[39;49m\u001b[39mFalse\u001b[39;49;00m,\n\u001b[0;32m    498\u001b[0m         retries\u001b[39m=\u001b[39;49m\u001b[39mself\u001b[39;49m\u001b[39m.\u001b[39;49mmax_retries,\n\u001b[0;32m    499\u001b[0m         timeout\u001b[39m=\u001b[39;49mtimeout,\n\u001b[0;32m    500\u001b[0m     )\n\u001b[0;32m    502\u001b[0m \u001b[39m# Send the request.\u001b[39;00m\n\u001b[0;32m    503\u001b[0m \u001b[39melse\u001b[39;00m:\n",
      "File \u001b[1;32md:\\Python\\lib\\site-packages\\urllib3\\connectionpool.py:787\u001b[0m, in \u001b[0;36mHTTPConnectionPool.urlopen\u001b[1;34m(self, method, url, body, headers, retries, redirect, assert_same_host, timeout, pool_timeout, release_conn, chunked, body_pos, **response_kw)\u001b[0m\n\u001b[0;32m    785\u001b[0m     e \u001b[39m=\u001b[39m ProtocolError(\u001b[39m\"\u001b[39m\u001b[39mConnection aborted.\u001b[39m\u001b[39m\"\u001b[39m, e)\n\u001b[1;32m--> 787\u001b[0m retries \u001b[39m=\u001b[39m retries\u001b[39m.\u001b[39;49mincrement(\n\u001b[0;32m    788\u001b[0m     method, url, error\u001b[39m=\u001b[39;49me, _pool\u001b[39m=\u001b[39;49m\u001b[39mself\u001b[39;49m, _stacktrace\u001b[39m=\u001b[39;49msys\u001b[39m.\u001b[39;49mexc_info()[\u001b[39m2\u001b[39;49m]\n\u001b[0;32m    789\u001b[0m )\n\u001b[0;32m    790\u001b[0m retries\u001b[39m.\u001b[39msleep()\n",
      "File \u001b[1;32md:\\Python\\lib\\site-packages\\urllib3\\util\\retry.py:592\u001b[0m, in \u001b[0;36mRetry.increment\u001b[1;34m(self, method, url, response, error, _pool, _stacktrace)\u001b[0m\n\u001b[0;32m    591\u001b[0m \u001b[39mif\u001b[39;00m new_retry\u001b[39m.\u001b[39mis_exhausted():\n\u001b[1;32m--> 592\u001b[0m     \u001b[39mraise\u001b[39;00m MaxRetryError(_pool, url, error \u001b[39mor\u001b[39;00m ResponseError(cause))\n\u001b[0;32m    594\u001b[0m log\u001b[39m.\u001b[39mdebug(\u001b[39m\"\u001b[39m\u001b[39mIncremented Retry for (url=\u001b[39m\u001b[39m'\u001b[39m\u001b[39m%s\u001b[39;00m\u001b[39m'\u001b[39m\u001b[39m): \u001b[39m\u001b[39m%r\u001b[39;00m\u001b[39m\"\u001b[39m, url, new_retry)\n",
      "\u001b[1;31mMaxRetryError\u001b[0m: HTTPSConnectionPool(host='modelhub-backend-269-production.env.bdaa.pro', port=443): Max retries exceeded with url: /v1/api/getPretrainedModelList (Caused by SSLError(SSLEOFError(8, 'EOF occurred in violation of protocol (_ssl.c:997)')))",
      "\nDuring handling of the above exception, another exception occurred:\n",
      "\u001b[1;31mSSLError\u001b[0m                                  Traceback (most recent call last)",
      "Cell \u001b[1;32mIn [12], line 3\u001b[0m\n\u001b[0;32m      1\u001b[0m \u001b[39m# 获取公开的预训练模型\u001b[39;00m\n\u001b[0;32m      2\u001b[0m pretrained_dir \u001b[39m=\u001b[39m \u001b[39mf\u001b[39m\u001b[39m\"\u001b[39m\u001b[39m{\u001b[39;00mBASE_DIR\u001b[39m}\u001b[39;00m\u001b[39m/examples/test_model/elmo\u001b[39m\u001b[39m\"\u001b[39m\n\u001b[1;32m----> 3\u001b[0m i2v \u001b[39m=\u001b[39m get_pretrained_i2v(\u001b[39m\"\u001b[39m\u001b[39melmo_pp_test\u001b[39m\u001b[39m\"\u001b[39m, model_dir\u001b[39m=\u001b[39mpretrained_dir)\n",
      "File \u001b[1;32md:\\Python\\lib\\site-packages\\EduNLP\\I2V\\i2v.py:545\u001b[0m, in \u001b[0;36mget_pretrained_i2v\u001b[1;34m(name, model_dir)\u001b[0m\n\u001b[0;32m    512\u001b[0m \u001b[39mdef\u001b[39;00m \u001b[39mget_pretrained_i2v\u001b[39m(name, model_dir\u001b[39m=\u001b[39mMODEL_DIR):\n\u001b[0;32m    513\u001b[0m     \u001b[39m\"\"\"\u001b[39;00m\n\u001b[0;32m    514\u001b[0m \u001b[39m    It is a good idea if you want to switch item to vector earily.\u001b[39;00m\n\u001b[0;32m    515\u001b[0m \n\u001b[1;32m   (...)\u001b[0m\n\u001b[0;32m    543\u001b[0m \u001b[39m    ([array([ ...dtype=float32)], None)\u001b[39;00m\n\u001b[0;32m    544\u001b[0m \u001b[39m    \"\"\"\u001b[39;00m\n\u001b[1;32m--> 545\u001b[0m     pretrained_models \u001b[39m=\u001b[39m get_all_pretrained_models()\n\u001b[0;32m    546\u001b[0m     \u001b[39mif\u001b[39;00m name \u001b[39mnot\u001b[39;00m \u001b[39min\u001b[39;00m pretrained_models:\n\u001b[0;32m    547\u001b[0m         \u001b[39mraise\u001b[39;00m \u001b[39mKeyError\u001b[39;00m(\n\u001b[0;32m    548\u001b[0m             \u001b[39m\"\u001b[39m\u001b[39mUnknown model name \u001b[39m\u001b[39m%s\u001b[39;00m\u001b[39m, use one of the provided models: \u001b[39m\u001b[39m%s\u001b[39;00m\u001b[39m\"\u001b[39m \u001b[39m%\u001b[39m (name, \u001b[39m\"\u001b[39m\u001b[39m, \u001b[39m\u001b[39m\"\u001b[39m\u001b[39m.\u001b[39mjoin(pretrained_models))\n\u001b[0;32m    549\u001b[0m         )\n",
      "File \u001b[1;32md:\\Python\\lib\\site-packages\\EduNLP\\Vector\\t2v.py:89\u001b[0m, in \u001b[0;36mget_all_pretrained_models\u001b[1;34m()\u001b[0m\n\u001b[0;32m     87\u001b[0m \u001b[39mdef\u001b[39;00m \u001b[39mget_all_pretrained_models\u001b[39m():\n\u001b[0;32m     88\u001b[0m     url \u001b[39m=\u001b[39m MODELHUB_URL \u001b[39m+\u001b[39m \u001b[39m'\u001b[39m\u001b[39mgetPretrainedModelList\u001b[39m\u001b[39m'\u001b[39m\n\u001b[1;32m---> 89\u001b[0m     r \u001b[39m=\u001b[39m requests\u001b[39m.\u001b[39;49mget(url)\n\u001b[0;32m     90\u001b[0m     \u001b[39massert\u001b[39;00m r\u001b[39m.\u001b[39mstatus_code \u001b[39m==\u001b[39m \u001b[39m200\u001b[39m, r\u001b[39m.\u001b[39mstatus_code\n\u001b[0;32m     91\u001b[0m     r \u001b[39m=\u001b[39m json\u001b[39m.\u001b[39mloads(r\u001b[39m.\u001b[39mcontent)\n",
      "File \u001b[1;32md:\\Python\\lib\\site-packages\\requests\\api.py:73\u001b[0m, in \u001b[0;36mget\u001b[1;34m(url, params, **kwargs)\u001b[0m\n\u001b[0;32m     62\u001b[0m \u001b[39mdef\u001b[39;00m \u001b[39mget\u001b[39m(url, params\u001b[39m=\u001b[39m\u001b[39mNone\u001b[39;00m, \u001b[39m*\u001b[39m\u001b[39m*\u001b[39mkwargs):\n\u001b[0;32m     63\u001b[0m     \u001b[39mr\u001b[39m\u001b[39m\"\"\"Sends a GET request.\u001b[39;00m\n\u001b[0;32m     64\u001b[0m \n\u001b[0;32m     65\u001b[0m \u001b[39m    :param url: URL for the new :class:`Request` object.\u001b[39;00m\n\u001b[1;32m   (...)\u001b[0m\n\u001b[0;32m     70\u001b[0m \u001b[39m    :rtype: requests.Response\u001b[39;00m\n\u001b[0;32m     71\u001b[0m \u001b[39m    \"\"\"\u001b[39;00m\n\u001b[1;32m---> 73\u001b[0m     \u001b[39mreturn\u001b[39;00m request(\u001b[39m\"\u001b[39m\u001b[39mget\u001b[39m\u001b[39m\"\u001b[39m, url, params\u001b[39m=\u001b[39mparams, \u001b[39m*\u001b[39m\u001b[39m*\u001b[39mkwargs)\n",
      "File \u001b[1;32md:\\Python\\lib\\site-packages\\requests\\api.py:59\u001b[0m, in \u001b[0;36mrequest\u001b[1;34m(method, url, **kwargs)\u001b[0m\n\u001b[0;32m     55\u001b[0m \u001b[39m# By using the 'with' statement we are sure the session is closed, thus we\u001b[39;00m\n\u001b[0;32m     56\u001b[0m \u001b[39m# avoid leaving sockets open which can trigger a ResourceWarning in some\u001b[39;00m\n\u001b[0;32m     57\u001b[0m \u001b[39m# cases, and look like a memory leak in others.\u001b[39;00m\n\u001b[0;32m     58\u001b[0m \u001b[39mwith\u001b[39;00m sessions\u001b[39m.\u001b[39mSession() \u001b[39mas\u001b[39;00m session:\n\u001b[1;32m---> 59\u001b[0m     \u001b[39mreturn\u001b[39;00m session\u001b[39m.\u001b[39mrequest(method\u001b[39m=\u001b[39mmethod, url\u001b[39m=\u001b[39murl, \u001b[39m*\u001b[39m\u001b[39m*\u001b[39mkwargs)\n",
      "File \u001b[1;32md:\\Python\\lib\\site-packages\\requests\\sessions.py:587\u001b[0m, in \u001b[0;36mSession.request\u001b[1;34m(self, method, url, params, data, headers, cookies, files, auth, timeout, allow_redirects, proxies, hooks, stream, verify, cert, json)\u001b[0m\n\u001b[0;32m    582\u001b[0m send_kwargs \u001b[39m=\u001b[39m {\n\u001b[0;32m    583\u001b[0m     \u001b[39m\"\u001b[39m\u001b[39mtimeout\u001b[39m\u001b[39m\"\u001b[39m: timeout,\n\u001b[0;32m    584\u001b[0m     \u001b[39m\"\u001b[39m\u001b[39mallow_redirects\u001b[39m\u001b[39m\"\u001b[39m: allow_redirects,\n\u001b[0;32m    585\u001b[0m }\n\u001b[0;32m    586\u001b[0m send_kwargs\u001b[39m.\u001b[39mupdate(settings)\n\u001b[1;32m--> 587\u001b[0m resp \u001b[39m=\u001b[39m \u001b[39mself\u001b[39m\u001b[39m.\u001b[39msend(prep, \u001b[39m*\u001b[39m\u001b[39m*\u001b[39msend_kwargs)\n\u001b[0;32m    589\u001b[0m \u001b[39mreturn\u001b[39;00m resp\n",
      "File \u001b[1;32md:\\Python\\lib\\site-packages\\requests\\sessions.py:701\u001b[0m, in \u001b[0;36mSession.send\u001b[1;34m(self, request, **kwargs)\u001b[0m\n\u001b[0;32m    698\u001b[0m start \u001b[39m=\u001b[39m preferred_clock()\n\u001b[0;32m    700\u001b[0m \u001b[39m# Send the request\u001b[39;00m\n\u001b[1;32m--> 701\u001b[0m r \u001b[39m=\u001b[39m adapter\u001b[39m.\u001b[39msend(request, \u001b[39m*\u001b[39m\u001b[39m*\u001b[39mkwargs)\n\u001b[0;32m    703\u001b[0m \u001b[39m# Total elapsed time of the request (approximately)\u001b[39;00m\n\u001b[0;32m    704\u001b[0m elapsed \u001b[39m=\u001b[39m preferred_clock() \u001b[39m-\u001b[39m start\n",
      "File \u001b[1;32md:\\Python\\lib\\site-packages\\requests\\adapters.py:563\u001b[0m, in \u001b[0;36mHTTPAdapter.send\u001b[1;34m(self, request, stream, timeout, verify, cert, proxies)\u001b[0m\n\u001b[0;32m    559\u001b[0m         \u001b[39mraise\u001b[39;00m ProxyError(e, request\u001b[39m=\u001b[39mrequest)\n\u001b[0;32m    561\u001b[0m     \u001b[39mif\u001b[39;00m \u001b[39misinstance\u001b[39m(e\u001b[39m.\u001b[39mreason, _SSLError):\n\u001b[0;32m    562\u001b[0m         \u001b[39m# This branch is for urllib3 v1.22 and later.\u001b[39;00m\n\u001b[1;32m--> 563\u001b[0m         \u001b[39mraise\u001b[39;00m SSLError(e, request\u001b[39m=\u001b[39mrequest)\n\u001b[0;32m    565\u001b[0m     \u001b[39mraise\u001b[39;00m \u001b[39mConnectionError\u001b[39;00m(e, request\u001b[39m=\u001b[39mrequest)\n\u001b[0;32m    567\u001b[0m \u001b[39mexcept\u001b[39;00m ClosedPoolError \u001b[39mas\u001b[39;00m e:\n",
      "\u001b[1;31mSSLError\u001b[0m: HTTPSConnectionPool(host='modelhub-backend-269-production.env.bdaa.pro', port=443): Max retries exceeded with url: /v1/api/getPretrainedModelList (Caused by SSLError(SSLEOFError(8, 'EOF occurred in violation of protocol (_ssl.c:997)')))"
     ]
    }
   ],
   "source": [
    "# 获取公开的预训练模型\n",
    "pretrained_dir = f\"{BASE_DIR}/examples/test_model/elmo\"\n",
    "i2v = get_pretrained_i2v(\"elmo_pp_test\", model_dir=pretrained_dir)"
   ]
  },
  {
   "cell_type": "code",
   "execution_count": null,
   "metadata": {},
   "outputs": [],
   "source": [
    "i_vec, t_vec = i2v(test_items)\n",
    "print(i_vec.shape)\n",
    "print(t_vec.shape)\n",
    "print()\n",
    "\n",
    "# 也可以单独获取题目表征和各个token的表征\n",
    "i_vec = i2v.infer_item_vector(test_items, key=lambda x: x['ques_content'])\n",
    "print(i_vec.shape)\n",
    "t_vec = i2v.infer_token_vector(test_items, key=lambda x: x['ques_content'])\n",
    "print(t_vec.shape)\n",
    "print()\n",
    "\n",
    "# 同样，可以获取单个题目的表征\n",
    "i_vec, t_vec = i2v(test_items[0], key=lambda x: x['ques_content'])\n",
    "print(i_vec.shape)\n",
    "print(t_vec.shape)"
   ]
  }
 ],
 "metadata": {
  "kernelspec": {
   "display_name": "Python 3.10.4 64-bit",
   "language": "python",
   "name": "python3"
  },
  "language_info": {
   "codemirror_mode": {
    "name": "ipython",
    "version": 3
   },
   "file_extension": ".py",
   "mimetype": "text/x-python",
   "name": "python",
   "nbconvert_exporter": "python",
   "pygments_lexer": "ipython3",
   "version": "3.10.4"
  },
  "orig_nbformat": 4,
  "vscode": {
   "interpreter": {
    "hash": "2469a70536e4d2335a2ea8907942d0699c37342a371ac185bdb5b0aa6f073890"
   }
  }
 },
 "nbformat": 4,
 "nbformat_minor": 2
}
