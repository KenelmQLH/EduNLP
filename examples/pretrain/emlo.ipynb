{
 "cells": [
  {
   "cell_type": "code",
   "execution_count": null,
   "metadata": {},
   "outputs": [],
   "source": [
    "import torch\n",
    "import numpy as np\n",
    "import os\n",
    "import json\n",
    "from EduNLP.Pretrain import train_elmo\n",
    "from EduNLP.Vector import ElmoModel, T2V\n",
    "from EduNLP.I2V import Elmo, get_pretrained_i2v"
   ]
  },
  {
   "cell_type": "markdown",
   "metadata": {},
   "source": [
    "# 训练自己的Elmo模型\n",
    "## 1. 数据"
   ]
  },
  {
   "cell_type": "code",
   "execution_count": null,
   "metadata": {},
   "outputs": [],
   "source": [
    "BASE_DIR = \"E:\\Workustc\\EduNLP\\workMaster\\EduNLP\"\n",
    "\n",
    "data_dir = f\"{BASE_DIR}/tests/test_vec/test_data\"\n",
    "output_dir = f\"{BASE_DIR}/examples/test_model/data/elmo\"\n",
    "\n",
    "\n",
    "def raw_data():\n",
    "    _data = []\n",
    "    data_path = os.path.join(data_dir, \"OpenLUNA.json\")\n",
    "    with open(data_path, encoding=\"utf-8\") as f:\n",
    "        for line in f.readlines():\n",
    "            _data.append(json.loads(line))\n",
    "    return _data\n",
    "\n",
    "def stem_data(data):\n",
    "    _data = []\n",
    "    tokenizer = ElmoTokenizer()\n",
    "    for e in data:\n",
    "        d = tokenizer.tokenize(item=data['stem'], freeze_vocab=False)\n",
    "        if d is not None:\n",
    "            _data.append(d)\n",
    "    assert _data\n",
    "    return _data\n",
    "\n",
    "raw_data = raw_data()\n",
    "train_items = stem_data(raw_data)"
   ]
  },
  {
   "cell_type": "markdown",
   "metadata": {},
   "source": [
    "BASE_DIR = \"E:\\Workustc\\EduNLP\\workMaster\\EduNLP\"\n",
    "data_dir = f\"{BASE_DIR}/tests/test_vec\"\n",
    "output_dir = f\"{BASE_DIR}/examples/test_model/data\""
   ]
  },
  {
   "cell_type": "markdown",
   "metadata": {},
   "source": [
    "## 2. 训练和评估"
   ]
  },
  {
   "cell_type": "code",
   "execution_count": null,
   "metadata": {},
   "outputs": [],
   "source": [
    "train_params = {\n",
    "  \"emb_dim\": 512,\n",
    "  \"hid_dim\": 512,\n",
    "  \"batch_size\": 2,\n",
    "  \"epochs\": 3,\n",
    "  \"lr\": 5e-4,\n",
    "  \"device\": None\n",
    "}\n",
    "\n",
    "train_elmo(train_items, output_dir, **train_params)"
   ]
  },
  {
   "cell_type": "markdown",
   "metadata": {},
   "source": [
    "## 3.使用模型"
   ]
  },
  {
   "cell_type": "code",
   "execution_count": null,
   "metadata": {},
   "outputs": [],
   "source": [
    "item = {'stem': '如图$\\\\FigureID{088f15ea-8b7c-11eb-897e-b46bfc50aa29}$, \\\n",
    "          若$x,y$满足约束条件$\\\\SIFSep$，则$z=x+7 y$的最大值为$\\\\SIFBlank$'}\n",
    "\n",
    "tokenizer_kwargs = {\"path\": os.path.join(output_dir, \"vocab.json\")}\n",
    "i2v = Elmo('elmo', 'elmo', output_dir, tokenizer_kwargs=tokenizer_kwargs)\n",
    "\n",
    "i_vec, t_vec = i2v(item['stem'])\n",
    "# or\n",
    "# i_vec = i2v.infer_item_vector(item['stem'])\n",
    "# t_vec = i2v.infer_token_vector(item['stem'])\n",
    "\n",
    "print(i_vec.shape) # == torch.Size([x, x])\n",
    "print(t_vec.shape) # == torch.Size([x, x, x])"
   ]
  }
 ],
 "metadata": {
  "interpreter": {
   "hash": "776957673adb719a00031a24ed5efd2fa5ce8a13405e5193f8d278edd3805d55"
  },
  "kernelspec": {
   "display_name": "Python 3.6.13 ('data')",
   "language": "python",
   "name": "python3"
  },
  "language_info": {
   "name": "python",
   "version": "3.6.13"
  },
  "orig_nbformat": 4
 },
 "nbformat": 4,
 "nbformat_minor": 2
}
