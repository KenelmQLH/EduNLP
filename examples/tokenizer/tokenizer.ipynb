{
 "cells": [
  {
   "cell_type": "code",
   "execution_count": 9,
   "id": "edfef487",
   "metadata": {},
   "outputs": [],
   "source": [
    "from EduNLP.Tokenizer import PureTextTokenizer, TextTokenizer, get_tokenizer"
   ]
  },
  {
   "cell_type": "markdown",
   "id": "90106799",
   "metadata": {},
   "source": [
    "# TextTokenizer and PureTextTokenizer\n",
    "\n",
    "- ‘text’ Tokenizer symbolizes the FormulaFigures as [FUMULA] and tokenize latex Formulas as Text\n",
    "- ‘pure_text’ Tokenizer ignores and skips the FormulaFigures and tokenize latex Formulas as Text"
   ]
  },
  {
   "cell_type": "markdown",
   "id": "f78cdae1",
   "metadata": {},
   "source": [
    "## TextTokenizer"
   ]
  },
  {
   "cell_type": "code",
   "execution_count": 12,
   "id": "0cf5f950",
   "metadata": {},
   "outputs": [
    {
     "name": "stdout",
     "output_type": "stream",
     "text": [
      "['已知', '集合', 'A', '=', '\\\\left', '\\\\{', 'x', '\\\\mid', 'x', '^', '{', '2', '}', '-', '3', 'x', '-', '4', '<', '0', '\\\\right', '\\\\}', ',', '\\\\quad', 'B', '=', '\\\\{', '-', '4', ',', '1', ',', '3', ',', '5', '\\\\}', ',', '\\\\quad', 'A', '\\\\cap', 'B', '=']\n"
     ]
    }
   ],
   "source": [
    "items = [{\n",
    "        \"stem\": \"已知集合$A=\\\\left\\\\{x \\\\mid x^{2}-3 x-4<0\\\\right\\\\}, \\\\quad B=\\\\{-4,1,3,5\\\\}, \\\\quad$ 则 $A \\\\cap B=$\",\n",
    "        \"options\": [\"1\", \"2\"]\n",
    "        }]\n",
    "\n",
    "tokenizer = get_tokenizer(\"text\") # tokenizer = TextTokenizer()\n",
    "tokens = tokenizer(items, key=lambda x: x[\"stem\"])\n",
    "print(next(tokens))"
   ]
  },
  {
   "cell_type": "code",
   "execution_count": 14,
   "id": "36c32fb2",
   "metadata": {},
   "outputs": [
    {
     "name": "stdout",
     "output_type": "stream",
     "text": [
      "['公式', '[FORMULA]', '如图', '[FIGURE]', 'x', ',', 'y', '约束条件', '公式', '[FORMULA]', '[SEP]', 'z', '=', 'x', '+', '7', 'y', '最大值', '[MARK]']\n"
     ]
    }
   ],
   "source": [
    "items = [\"有公式$\\\\FormFigureID{1}$，如图$\\\\FigureID{088f15ea-xxx}$,若$x,y$满足约束条件公式$\\\\FormFigureBase64{2}$,$\\\\SIFSep$，则$z=x+7 y$的最大值为$\\\\SIFBlank$\"]\n",
    "\n",
    "tokenizer = get_tokenizer(\"text\") # tokenizer = TextTokenizer()\n",
    "tokens = tokenizer(items)\n",
    "print(next(tokens))"
   ]
  },
  {
   "cell_type": "markdown",
   "id": "3a987ba8",
   "metadata": {},
   "source": [
    "## PureTextTokenizer"
   ]
  },
  {
   "cell_type": "code",
   "execution_count": 13,
   "id": "a8f7e65b",
   "metadata": {},
   "outputs": [
    {
     "name": "stdout",
     "output_type": "stream",
     "text": [
      "['公式', '如图', '[FIGURE]', 'x', ',', 'y', '约束条件', '公式', '[SEP]', 'z', '=', 'x', '+', '7', 'y', '最大值', '[MARK]']\n"
     ]
    }
   ],
   "source": [
    "items = [\"有公式$\\\\FormFigureID{1}$，如图$\\\\FigureID{088f15ea-xxx}$,若$x,y$满足约束条件公式$\\\\FormFigureBase64{2}$,$\\\\SIFSep$，则$z=x+7 y$的最大值为$\\\\SIFBlank$\"]\n",
    "\n",
    "tokenizer = get_tokenizer(\"pure_text\") # tokenizer = PureTextTokenizer()\n",
    "tokens = tokenizer(items)\n",
    "print(next(tokens))"
   ]
  },
  {
   "cell_type": "markdown",
   "id": "38f3e920",
   "metadata": {},
   "source": [
    "# GensimWordTokenizer and GensimSegTokenizer\n",
    "\n",
    "- GensimWordTokenizer is the standart basic Tokenizer for SIF items\n",
    "\n",
    "- GensimSegTokenizer is the standart basic Tokenizer for SIF items"
   ]
  },
  {
   "cell_type": "code",
   "execution_count": 6,
   "id": "fd96e001",
   "metadata": {},
   "outputs": [],
   "source": [
    "from EduNLP.Pretrain import GensimWordTokenizer, GensimSegTokenizer"
   ]
  },
  {
   "cell_type": "markdown",
   "id": "145a6dcd",
   "metadata": {},
   "source": [
    "## GensimWordTokenizer"
   ]
  },
  {
   "cell_type": "code",
   "execution_count": 7,
   "id": "6f090e92",
   "metadata": {},
   "outputs": [
    {
     "name": "stdout",
     "output_type": "stream",
     "text": [
      "['已知', '公式', \\FormFigureID{1}, '如图', '[FIGURE]', 'mathord', ',', 'mathord', '约束条件', '公式', [FORMULA], '[SEP]', 'mathord', '=', 'mathord', '+', 'textord', 'mathord', '最大值', '[MARK]']\n",
      "\n",
      "['已知', '公式', '[FORMULA]', '如图', '[FIGURE]', 'x', ',', 'y', '约束条件', '公式', '[FORMULA]', '[SEP]', 'z', '=', 'x', '+', '7', 'y', '最大值', '[MARK]']\n"
     ]
    }
   ],
   "source": [
    "item = \"已知有公式$\\\\FormFigureID{1}$，如图$\\\\FigureID{088f15ea-xxx}$, 若$x,y$满足约束条件公式$\\\\FormFigureBase64{2}$,$\\\\SIFSep$，则$z=x+7 y$的最大值为$\\\\SIFBlank$\"\n",
    "\n",
    "tokenizer = GensimWordTokenizer(symbol=\"gmas\")\n",
    "token_item = tokenizer(item)\n",
    "print(token_item.tokens)\n",
    "print()\n",
    "\n",
    "tokenizer = GensimWordTokenizer(symbol=\"gmas\", general=True)\n",
    "token_item = tokenizer(item)\n",
    "print(token_item.tokens)"
   ]
  },
  {
   "cell_type": "markdown",
   "id": "43c7dca7",
   "metadata": {},
   "source": [
    "## GensimSegTokenizer"
   ]
  },
  {
   "cell_type": "code",
   "execution_count": 8,
   "id": "6c222cd8",
   "metadata": {},
   "outputs": [
    {
     "name": "stdout",
     "output_type": "stream",
     "text": [
      "10 [['已知', '公式'], [\\FormFigureID{1}], ['如图'], ['[FIGURE]'], ['mathord', ',', 'mathord'], ['约束条件', '公式'], [[FORMULA]], ['mathord', '=', 'mathord', '+', 'textord', 'mathord'], ['最大值'], ['[MARK]']]\n",
      "\n",
      "19 ['已知', '公式', \\FormFigureID{1}, '如图', '[FIGURE]', 'mathord', ',', 'mathord', '约束条件', '公式', [FORMULA], 'mathord', '=', 'mathord', '+', 'textord', 'mathord', '最大值', '[MARK]']\n",
      "\n",
      "2 [['[TEXT_BEGIN]', '已知', '公式', '[FORMULA_BEGIN]', \\FormFigureID{1}, '[TEXT_BEGIN]', '如图', '[FIGURE]', '[FORMULA_BEGIN]', 'mathord', ',', 'mathord', '[TEXT_BEGIN]', '约束条件', '公式', '[FORMULA_BEGIN]', [FORMULA], '[SEP]'], ['[FORMULA_BEGIN]', 'mathord', '=', 'mathord', '+', 'textord', 'mathord', '[TEXT_BEGIN]', '最大值', '[MARK]']]\n",
      "\n",
      "2 [['[TEXT_BEGIN]', '已知', '公式', '[TEXT_END]', '[FORMULA_BEGIN]', \\FormFigureID{1}, '[FORMULA_END]', '[TEXT_BEGIN]', '如图', '[TEXT_END]', '[FIGURE]', '[FORMULA_BEGIN]', 'mathord', ',', 'mathord', '[FORMULA_END]', '[TEXT_BEGIN]', '约束条件', '公式', '[TEXT_END]', '[FORMULA_BEGIN]', [FORMULA], '[FORMULA_END]', '[SEP]'], ['[FORMULA_BEGIN]', 'mathord', '=', 'mathord', '+', 'textord', 'mathord', '[FORMULA_END]', '[TEXT_BEGIN]', '最大值', '[TEXT_END]', '[MARK]']]\n"
     ]
    }
   ],
   "source": [
    "item = \"已知有公式$\\\\FormFigureID{1}$，如图$\\\\FigureID{088f15ea-xxx}$, 若$x,y$满足约束条件公式$\\\\FormFigureBase64{2}$，$\\\\SIFSep$则$z=x+7 y$的最大值为$\\\\SIFBlank$\"\n",
    "\n",
    "tokenizer = GensimSegTokenizer(symbol=\"gmas\")\n",
    "token_item = tokenizer(item)\n",
    "print(len(token_item), token_item)\n",
    "print()\n",
    "\n",
    "tokenizer = GensimSegTokenizer(symbol=\"gmas\", flatten=True)\n",
    "token_item = tokenizer(item)\n",
    "token_item = [i for i in token_item]\n",
    "print(len(token_item), token_item)\n",
    "print()\n",
    "\n",
    "# segment at Tag and Sep \n",
    "tokenizer = GensimSegTokenizer(symbol=\"gmas\", depth=2)\n",
    "token_item = tokenizer(item)\n",
    "print(len(token_item), token_item)\n",
    "print()\n",
    "\n",
    "# tag for texts and formulas in each big segment if setting depth.\n",
    "tokenizer = GensimSegTokenizer(symbol=\"gmas\", depth=2,  add_seg_mode=\"delimiter\")\n",
    "token_item = tokenizer(item)\n",
    "print(len(token_item), token_item)"
   ]
  }
 ],
 "metadata": {
  "interpreter": {
   "hash": "776957673adb719a00031a24ed5efd2fa5ce8a13405e5193f8d278edd3805d55"
  },
  "kernelspec": {
   "display_name": "Python 3.6.13 64-bit ('data': conda)",
   "name": "python3"
  },
  "language_info": {
   "codemirror_mode": {
    "name": "ipython",
    "version": 3
   },
   "file_extension": ".py",
   "mimetype": "text/x-python",
   "name": "python",
   "nbconvert_exporter": "python",
   "pygments_lexer": "ipython3",
   "version": "3.6.13"
  }
 },
 "nbformat": 4,
 "nbformat_minor": 5
}
