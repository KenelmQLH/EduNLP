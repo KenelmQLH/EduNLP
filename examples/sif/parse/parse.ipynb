{
 "cells": [
  {
   "cell_type": "markdown",
   "metadata": {},
   "source": [
    "# parse\n",
    "\n",
    "主要功能为将文本中的字母、数字等进行提取，将其转换为标准格式。\n",
    "\n",
    "\n",
    "## 概述\n",
    "\n",
    "1、将选择题中的括号，填空题中的下划线用特殊标识替换掉，并将字符、公式用$$包裹起来，使item能通过$符号准确的按照类型切割开；\n",
    "\n",
    "2、判断当前item是否合法，并报出错误类型。\n",
    "\n",
    "## 具体处理内容\n",
    "\n",
    "1.匹配公式之外的英文字母、数字，只对两个汉字之间的字母、数字做修正，其余匹配到的情况视为不合 latex 语法录入的公式\n",
    "\n",
    "2.匹配“（  ）”型括号（包含英文格式和中文格式），即括号内无内容或为空格的括号，将括号替换 ``$\\\\SIFChoice$`` \n",
    "\n",
    "3.匹配下划线，替换连续的下划线或下划线中夹杂空格的情况，将其替换为 ``$\\\\SIFBlank$`` \n",
    "\n",
    "4.匹配latex公式，主要检查latex公式的完整性和可解析性，对latex 中出现中文字符发出警告"
   ]
  },
  {
   "cell_type": "markdown",
   "metadata": {},
   "source": [
    "## 导入类"
   ]
  },
  {
   "cell_type": "code",
   "execution_count": 2,
   "metadata": {},
   "outputs": [],
   "source": [
    "from EduNLP.Formula.ast import str2ast, katex_parse\n",
    "from EduNLP.SIF.parser import Parser"
   ]
  },
  {
   "cell_type": "markdown",
   "metadata": {},
   "source": [
    "## 输入\n",
    "\n",
    "类型：str  \n",
    "内容：题目文本 （text）"
   ]
  },
  {
   "cell_type": "code",
   "execution_count": 3,
   "metadata": {},
   "outputs": [],
   "source": [
    "text1 = '生产某种零件的A工厂25名工人的日加工零件数_   _'\n",
    "text2 = 'X的分布列为(   )'\n",
    "text3 = '① AB是⊙O的直径，AC是⊙O的切线，BC交⊙O于点E．AC的中点为D'\n",
    "text4 = '支持公式如$\\\\frac{y}{x}$，$\\\\SIFBlank$，$\\\\FigureID{1}$，不支持公式如$\\\\frac{ \\\\dddot y}{x}$'"
   ]
  },
  {
   "cell_type": "markdown",
   "metadata": {},
   "source": [
    "## 输出"
   ]
  },
  {
   "cell_type": "markdown",
   "metadata": {},
   "source": [
    "### 尝试转换为标准形式"
   ]
  },
  {
   "cell_type": "code",
   "execution_count": 6,
   "metadata": {},
   "outputs": [
    {
     "name": "stdout",
     "output_type": "stream",
     "text": [
      "text_parser1.text: 生产某种零件的$A$工厂$25$名工人的日加工零件数$\\SIFBlank$\n",
      "text_parser2.text: $X$的分布列为$\\SIFChoice$\n"
     ]
    }
   ],
   "source": [
    "text_parser1 = Parser(text1)\n",
    "text_parser1.description_list()\n",
    "print('text_parser1.text:',text_parser1.text)\n",
    "\n",
    "\n",
    "text_parser2 = Parser(text2)\n",
    "text_parser2.description_list()\n",
    "print('text_parser2.text:',text_parser2.text)\n"
   ]
  },
  {
   "cell_type": "markdown",
   "metadata": {},
   "source": [
    "### 判断是否有语法问题"
   ]
  },
  {
   "cell_type": "code",
   "execution_count": 7,
   "metadata": {},
   "outputs": [
    {
     "name": "stdout",
     "output_type": "stream",
     "text": [
      "text_parser3.error_flag:  1\n",
      "text_parser4.fomula_illegal_flag:  1\n"
     ]
    }
   ],
   "source": [
    "text_parser3 = Parser(text3)\n",
    "text_parser3.description_list()\n",
    "print('text_parser3.error_flag: ',text_parser3.error_flag)\n",
    "\n",
    "\n",
    "text_parser4 = Parser(text4)\n",
    "text_parser4.description_list()\n",
    "print('text_parser4.fomula_illegal_flag: ',text_parser4.fomula_illegal_flag)\n"
   ]
  }
 ],
 "metadata": {
  "interpreter": {
   "hash": "6f23ddf1f0697a8f0c43dd2435bdb82528077c79e9967f824fba6a3b52b05faf"
  },
  "kernelspec": {
   "display_name": "Python 3.6.3 64-bit",
   "name": "python3"
  },
  "language_info": {
   "codemirror_mode": {
    "name": "ipython",
    "version": 3
   },
   "file_extension": ".py",
   "mimetype": "text/x-python",
   "name": "python",
   "nbconvert_exporter": "python",
   "pygments_lexer": "ipython3",
   "version": "3.6.3"
  },
  "orig_nbformat": 4
 },
 "nbformat": 4,
 "nbformat_minor": 2
}
