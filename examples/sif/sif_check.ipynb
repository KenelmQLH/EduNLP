{
 "cells": [
  {
   "cell_type": "markdown",
   "metadata": {},
   "source": [
    "# 试题标准化"
   ]
  },
  {
   "cell_type": "code",
   "execution_count": 1,
   "metadata": {},
   "outputs": [],
   "source": [
    "from EduNLP.SIF import is_sif, to_sif"
   ]
  },
  {
   "cell_type": "markdown",
   "metadata": {},
   "source": [
    "## is_sif"
   ]
  },
  {
   "cell_type": "code",
   "execution_count": 2,
   "metadata": {},
   "outputs": [
    {
     "data": {
      "text/plain": [
       "True"
      ]
     },
     "execution_count": 2,
     "metadata": {},
     "output_type": "execute_result"
    }
   ],
   "source": [
    "text = '若$x,y$满足约束条件' \\\n",
    "     '$\\\\left\\\\{\\\\begin{array}{c}2 x+y-2 \\\\leq 0 \\\\\\\\ x-y-1 \\\\geq 0 \\\\\\\\ y+1 \\\\geq 0\\\\end{array}\\\\right.$，' \\\n",
    "    '则$z=x+7 y$的最大值$\\\\SIFUnderline$'\n",
    "    \n",
    "is_sif(text)\n"
   ]
  },
  {
   "cell_type": "code",
   "execution_count": 3,
   "metadata": {},
   "outputs": [
    {
     "data": {
      "text/plain": [
       "False"
      ]
     },
     "execution_count": 3,
     "metadata": {},
     "output_type": "execute_result"
    }
   ],
   "source": [
    "text = '某校一个课外学习小组为研究某作物的发芽率y和温度x（单位...'\n",
    "is_sif(text)"
   ]
  },
  {
   "cell_type": "code",
   "execution_count": 4,
   "metadata": {},
   "outputs": [
    {
     "data": {
      "text/plain": [
       "(False, <EduNLP.SIF.parser.parser.Parser at 0x2803ef6af80>)"
      ]
     },
     "execution_count": 4,
     "metadata": {},
     "output_type": "execute_result"
    }
   ],
   "source": [
    "text = '某校一个课外学习小组为研究某作物的发芽率y和温度x（单位...'\n",
    "is_sif(text, return_parser=True)"
   ]
  },
  {
   "cell_type": "markdown",
   "metadata": {},
   "source": [
    "## to_sif"
   ]
  },
  {
   "cell_type": "code",
   "execution_count": 5,
   "metadata": {},
   "outputs": [
    {
     "data": {
      "text/plain": [
       "'某校一个课外学习小组为研究某作物的发芽率$y$和温度$x$（单位...'"
      ]
     },
     "execution_count": 5,
     "metadata": {},
     "output_type": "execute_result"
    }
   ],
   "source": [
    "text = '某校一个课外学习小组为研究某作物的发芽率y和温度x（单位...'\n",
    "to_sif(text)"
   ]
  },
  {
   "cell_type": "code",
   "execution_count": 13,
   "metadata": {},
   "outputs": [
    {
     "name": "stdout",
     "output_type": "stream",
     "text": [
      "[0]origin-text : 某校一个课外学习小组为研究某作物的发芽率y和温度x（单位...\n",
      "[1]sif-text : 某校一个课外学习小组为研究某作物的发芽率$y$和温度$x$（单位... ,consume time [0.005233049392700195s]\n",
      "[2]return :  False\n",
      "[2]sif-text : 某校一个课外学习小组为研究某作物的发芽率$y$和温度$x$（单位... ,consume time [0.002132892608642578s]\n"
     ]
    }
   ],
   "source": [
    "import time\n",
    "# ------------不使用‘加速’机制--------------- #\n",
    "text = '某校一个课外学习小组为研究某作物的发芽率y和温度x（单位...' * 100\n",
    "print(\"[0]origin-text : {}\".format(text[:31]))\n",
    "start = time.time()\n",
    "if not is_sif(text):\n",
    "    siftext = to_sif(text)\n",
    "print(\"[1]sif-text : {} ,consume time [{}s]\".format(siftext[:35], time.time() - start))\n",
    "\n",
    "# ------------使用‘加速’机制--------------- #\n",
    "start = time.time()\n",
    "ret = is_sif(text, return_parser=True)\n",
    "if isinstance(ret, tuple):\n",
    "    print(\"[2]return : \", ret[0])\n",
    "if ret[0] is not True:\n",
    "    siftext = to_sif(text, parser=ret[1])\n",
    "print(\"[2]sif-text : {} ,consume time [{}s]\".format(siftext[:35], time.time() - start))"
   ]
  }
 ],
 "metadata": {
  "kernelspec": {
   "display_name": "Python 3.10.4 64-bit",
   "language": "python",
   "name": "python3"
  },
  "language_info": {
   "codemirror_mode": {
    "name": "ipython",
    "version": 3
   },
   "file_extension": ".py",
   "mimetype": "text/x-python",
   "name": "python",
   "nbconvert_exporter": "python",
   "pygments_lexer": "ipython3",
   "version": "3.10.4"
  },
  "orig_nbformat": 4,
  "vscode": {
   "interpreter": {
    "hash": "2469a70536e4d2335a2ea8907942d0699c37342a371ac185bdb5b0aa6f073890"
   }
  }
 },
 "nbformat": 4,
 "nbformat_minor": 2
}
