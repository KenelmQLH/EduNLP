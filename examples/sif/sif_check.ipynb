{
 "cells": [
  {
   "cell_type": "markdown",
   "metadata": {},
   "source": [
    "# 试题标准化"
   ]
  },
  {
   "cell_type": "code",
   "execution_count": 1,
   "metadata": {},
   "outputs": [
    {
     "name": "stderr",
     "output_type": "stream",
     "text": [
      "D:\\MySoftwares\\Anaconda\\envs\\data\\lib\\site-packages\\gensim\\similarities\\__init__.py:15: UserWarning: The gensim.similarities.levenshtein submodule is disabled, because the optional Levenshtein package <https://pypi.org/project/python-Levenshtein/> is unavailable. Install Levenhstein (e.g. `pip install python-Levenshtein`) to suppress this warning.\n",
      "  warnings.warn(msg)\n"
     ]
    }
   ],
   "source": [
    "from EduNLP.SIF import is_sif, to_sif"
   ]
  },
  {
   "cell_type": "markdown",
   "metadata": {},
   "source": [
    "## is_sif"
   ]
  },
  {
   "cell_type": "code",
   "execution_count": 2,
   "metadata": {},
   "outputs": [
    {
     "data": {
      "text/plain": [
       "True"
      ]
     },
     "execution_count": 2,
     "metadata": {},
     "output_type": "execute_result"
    }
   ],
   "source": [
    "text = '若$x,y$满足约束条件' \\\n",
    "     '$\\\\left\\\\{\\\\begin{array}{c}2 x+y-2 \\\\leq 0 \\\\\\\\ x-y-1 \\\\geq 0 \\\\\\\\ y+1 \\\\geq 0\\\\end{array}\\\\right.$，' \\\n",
    "    '则$z=x+7 y$的最大值$\\\\SIFUnderline$'\n",
    "    \n",
    "is_sif(text)\n"
   ]
  },
  {
   "cell_type": "code",
   "execution_count": 3,
   "metadata": {},
   "outputs": [
    {
     "data": {
      "text/plain": [
       "False"
      ]
     },
     "execution_count": 3,
     "metadata": {},
     "output_type": "execute_result"
    }
   ],
   "source": [
    "text = '某校一个课外学习小组为研究某作物的发芽率y和温度x（单位...'\n",
    "is_sif(text)"
   ]
  },
  {
   "cell_type": "code",
   "execution_count": 4,
   "metadata": {},
   "outputs": [
    {
     "data": {
      "text/plain": [
       "(False, <EduNLP.SIF.parser.parser.Parser at 0x2a3083fa978>)"
      ]
     },
     "execution_count": 4,
     "metadata": {},
     "output_type": "execute_result"
    }
   ],
   "source": [
    "text = '某校一个课外学习小组为研究某作物的发芽率y和温度x（单位...'\n",
    "is_sif(text, return_parser=True)"
   ]
  },
  {
   "cell_type": "markdown",
   "metadata": {},
   "source": [
    "## to_sif"
   ]
  },
  {
   "cell_type": "code",
   "execution_count": 5,
   "metadata": {},
   "outputs": [
    {
     "data": {
      "text/plain": [
       "'某校一个课外学习小组为研究某作物的发芽率$y$和温度$x$（单位...'"
      ]
     },
     "execution_count": 5,
     "metadata": {},
     "output_type": "execute_result"
    }
   ],
   "source": [
    "text = '某校一个课外学习小组为研究某作物的发芽率y和温度x（单位...'\n",
    "to_sif(text)"
   ]
  },
  {
   "cell_type": "code",
   "execution_count": 6,
   "metadata": {},
   "outputs": [
    {
     "name": "stdout",
     "output_type": "stream",
     "text": [
      "[1]siftext : 某校一个课外学习小组为研究某作物的发芽率$y$和温度$x$（单位... ,consume time [0.018142223358154297s]\n",
      "[2]return :  (False, <EduNLP.SIF.parser.parser.Parser object at 0x000002A30840FC88>)\n",
      "[2]siftext : 某校一个课外学习小组为研究某作物的发芽率$y$和温度$x$（单位... ,consume time [0.008990764617919922s]\n"
     ]
    }
   ],
   "source": [
    "import time\n",
    "# ------------不使用‘加速’机制--------------- #\n",
    "text = '某校一个课外学习小组为研究某作物的发芽率y和温度x（单位...'*150\n",
    "start = time.time()\n",
    "if not is_sif(text):\n",
    "    siftext = to_sif(text)\n",
    "print(\"[1]siftext : {} ,consume time [{}s]\".format(siftext[:35], time.time() - start))\n",
    "\n",
    "# ------------使用‘加速’机制--------------- #\n",
    "start = time.time()\n",
    "ret = is_sif(text, return_parser=True)\n",
    "print(\"[2]return : \", ret)\n",
    "if ret[0] is not True:\n",
    "    siftext = to_sif(text, parser=ret[1])\n",
    "print(\"[2]siftext : {} ,consume time [{}s]\".format(siftext[:35], time.time() - start))"
   ]
  }
 ],
 "metadata": {
  "interpreter": {
   "hash": "776957673adb719a00031a24ed5efd2fa5ce8a13405e5193f8d278edd3805d55"
  },
  "kernelspec": {
   "display_name": "Python 3.6.13 64-bit ('data': conda)",
   "name": "python3"
  },
  "language_info": {
   "codemirror_mode": {
    "name": "ipython",
    "version": 3
   },
   "file_extension": ".py",
   "mimetype": "text/x-python",
   "name": "python",
   "nbconvert_exporter": "python",
   "pygments_lexer": "ipython3",
   "version": "3.6.13"
  },
  "orig_nbformat": 4
 },
 "nbformat": 4,
 "nbformat_minor": 2
}
