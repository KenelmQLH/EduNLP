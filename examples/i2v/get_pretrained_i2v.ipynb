{
 "cells": [
  {
   "cell_type": "markdown",
   "metadata": {},
   "source": [
    "# get_pretrained_i2v\n",
    "\n",
    "`get_pretrained_i2v` 是 `I2V` 模块的一个顶层接口，用于加载公开预训练模型到 `I2V` 向量化容器。\n",
    "\n",
    "## 概述\n",
    "\n",
    "使用 EduNLP 开源的预训练模型将给定的题目文本转成向量。\n",
    "\n",
    "- 优点：根据公开模型的名称能自动获取开源的预训练模型。\n",
    "- 缺点：只能使用项目中给定的模型。"
   ]
  },
  {
   "cell_type": "markdown",
   "metadata": {},
   "source": [
    "## 导入功能块"
   ]
  },
  {
   "cell_type": "code",
   "execution_count": 1,
   "metadata": {},
   "outputs": [
    {
     "name": "stderr",
     "output_type": "stream",
     "text": [
      "E:\\dev_env\\anaconda\\envs\\data\\lib\\site-packages\\gensim\\similarities\\__init__.py:15: UserWarning: The gensim.similarities.levenshtein submodule is disabled, because the optional Levenshtein package <https://pypi.org/project/python-Levenshtein/> is unavailable. Install Levenhstein (e.g. `pip install python-Levenshtein`) to suppress this warning.\n",
      "  warnings.warn(msg)\n"
     ]
    }
   ],
   "source": [
    "from EduNLP import get_pretrained_i2v"
   ]
  },
  {
   "cell_type": "markdown",
   "metadata": {},
   "source": [
    "## 输入\n",
    "\n",
    "类型：str  \n",
    "内容：题目文本 （text）"
   ]
  },
  {
   "cell_type": "code",
   "execution_count": 2,
   "metadata": {},
   "outputs": [],
   "source": [
    "items = [\n",
    "  r\"题目一：如图几何图形．此图由三个半圆构成，三个半圆的直径分别为直角三角形$ABC$的斜边$BC$, 直角边$AB$, $AC$.$\\bigtriangleup ABC$的三边所围成的区域记为$I$,黑色部分记为$II$, 其余部分记为$III$.在整个图形中随机取一点，此点取自$I,II,III$的概率分别记为$p_1,p_2,p_3$,则$\\SIFChoice$$\\FigureID{1}$\",\n",
    "  r\"题目二: 如图来自古希腊数学家希波克拉底所研究的几何图形．此图由三个半圆构成，三个半圆的直径分别为直角三角形$ABC$的斜边$BC$, 直角边$AB$, $AC$.$\\bigtriangleup ABC$的三边所围成的区域记为$I$,黑色部分记为$II$, 其余部分记为$III$.在整个图形中随机取一点，此点取自$I,II,III$的概率分别记为$p_1,p_2,p_3$,则$\\SIFChoice$$\\FigureID{1}$\"\n",
    "]"
   ]
  },
  {
   "cell_type": "markdown",
   "metadata": {},
   "source": [
    "## 模型选择"
   ]
  },
  {
   "cell_type": "markdown",
   "metadata": {},
   "source": [
    "根据题目所属学科选择预训练模型：   (部分模型列表) \n",
    "\n",
    " 预训练模型名称 | 模型训练数据的所属学科   \n",
    " -------------- | ----------------------             \n",
    "  d2v_math_300      | 数学             \n",
    "  w2v_math_300      | 数学        \n",
    "  elmo_math_2048 | 数学      \n",
    "  bert_math_768 | 数学 \n",
    "  bert_taledu_768 | 数学 \n",
    "  disenq_math_256 | 数学 \n",
    "  quesnet_math_512 | 数学 "
   ]
  },
  {
   "cell_type": "markdown",
   "metadata": {},
   "source": [
    "## 加载公开模型\n",
    "\n",
    "示例：W2V"
   ]
  },
  {
   "cell_type": "code",
   "execution_count": 3,
   "metadata": {},
   "outputs": [
    {
     "name": "stderr",
     "output_type": "stream",
     "text": [
      "EduNLP, INFO Use pretrained t2v model test_w2v\n",
      "downloader, INFO http://base.ustc.edu.cn/data/model_zoo/EduNLP/w2v/w2v_test_256.zip is saved as ..\\test_model\\data\\w2v\\w2v_test_256.zip\n",
      "downloader, INFO file existed, skipped\n"
     ]
    }
   ],
   "source": [
    "save_dir =  \"../test_model/w2v\"\n",
    "i2v = get_pretrained_i2v(\"test_w2v\", model_dir=save_dir)"
   ]
  },
  {
   "cell_type": "code",
   "execution_count": 4,
   "metadata": {},
   "outputs": [
    {
     "name": "stdout",
     "output_type": "stream",
     "text": [
      "2 256\n",
      "2 56 256\n"
     ]
    }
   ],
   "source": [
    "item_vector, token_vector = i2v(items)\n",
    "# or\n",
    "item_vector, token_vector = i2v.infer_vector(items)\n",
    "# or\n",
    "item_vector = i2v.infer_item_vector(items)\n",
    "token_vector = i2v.infer_token_vector(items)\n",
    "\n",
    "print(len(item_vector), len(item_vector[0])) \n",
    "print(len(token_vector), len(token_vector[0]), len(token_vector[0][0]))"
   ]
  }
 ],
 "metadata": {
  "interpreter": {
   "hash": "e7370f93d1d0cde622a1f8e1c04877d8463912d04d973331ad4851f04de6915a"
  },
  "kernelspec": {
   "display_name": "Python 3.8.5 64-bit",
   "name": "python3"
  },
  "language_info": {
   "codemirror_mode": {
    "name": "ipython",
    "version": 3
   },
   "file_extension": ".py",
   "mimetype": "text/x-python",
   "name": "python",
   "nbconvert_exporter": "python",
   "pygments_lexer": "ipython3",
   "version": "3.6.13"
  },
  "orig_nbformat": 4
 },
 "nbformat": 4,
 "nbformat_minor": 2
}
