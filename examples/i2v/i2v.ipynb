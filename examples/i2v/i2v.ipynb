{
 "cells": [
  {
   "cell_type": "markdown",
   "metadata": {},
   "source": [
    "# I2V 向量化容器\n",
    "\n",
    "向量化过程是将原始题目（item）转成向量（vector）的过程，它包括两个步骤：\n",
    "- 使用 `Tokenizer` 将原始题目（item）转化为令牌化序列（tokens）；\n",
    "- 使用 `T2V` 向量化容器 将令牌化序列（tokens）转成向量（vector）。\n",
    "\n",
    "为了使用户能直接使用本地的（或公开的）预训练模型，我们提供了`I2V向量化容器`, 将令牌化、向量化操作同时封装起来。"
   ]
  },
  {
   "cell_type": "markdown",
   "metadata": {},
   "source": [
    "## 概述\n",
    "\n",
    "使用EduNLP的开源预训练模型将给定的题目转成向量。\n",
    "\n",
    "- 优点：用户不需要研究令牌化和模型加载的细节。令牌化和向量化的参数已由预训练模型的参数文件定义好。\n",
    "- 缺点：不适合修改预训练的模型参数或令牌化容器参数"
   ]
  },
  {
   "cell_type": "code",
   "execution_count": 1,
   "metadata": {},
   "outputs": [],
   "source": [
    "import os\n",
    "\n",
    "items = [\n",
    "  r\"题目一：如图几何图形．此图由三个半圆构成，三个半圆的直径分别为直角三角形$ABC$的斜边$BC$, 直角边$AB$, $AC$.$\\bigtriangleup ABC$的三边所围成的区域记为$I$,黑色部分记为$II$, 其余部分记为$III$.在整个图形中随机取一点，此点取自$I,II,III$的概率分别记为$p_1,p_2,p_3$,则$\\SIFChoice$$\\FigureID{1}$\",\n",
    "  r\"题目二: 如图来自古希腊数学家希波克拉底所研究的几何图形．此图由三个半圆构成，三个半圆的直径分别为直角三角形$ABC$的斜边$BC$, 直角边$AB$, $AC$.$\\bigtriangleup ABC$的三边所围成的区域记为$I$,黑色部分记为$II$, 其余部分记为$III$.在整个图形中随机取一点，此点取自$I,II,III$的概率分别记为$p_1,p_2,p_3$,则$\\SIFChoice$$\\FigureID{1}$\"\n",
    "]\n",
    "\n",
    "model_dir = \"../test_model\""
   ]
  },
  {
   "cell_type": "markdown",
   "metadata": {},
   "source": [
    "# 示例：使用 W2V 加载本地模型\n",
    "## W2V"
   ]
  },
  {
   "cell_type": "code",
   "execution_count": 2,
   "metadata": {},
   "outputs": [
    {
     "name": "stderr",
     "output_type": "stream",
     "text": [
      "E:\\dev_env\\anaconda\\envs\\data\\lib\\site-packages\\gensim\\similarities\\__init__.py:15: UserWarning: The gensim.similarities.levenshtein submodule is disabled, because the optional Levenshtein package <https://pypi.org/project/python-Levenshtein/> is unavailable. Install Levenhstein (e.g. `pip install python-Levenshtein`) to suppress this warning.\n",
      "  warnings.warn(msg)\n"
     ]
    },
    {
     "name": "stdout",
     "output_type": "stream",
     "text": [
      "2 256\n",
      "2 56 256\n"
     ]
    }
   ],
   "source": [
    "from EduNLP.I2V import W2V\n",
    "\n",
    "pretrained_path = os.path.join(model_dir, \"w2v/w2v_test_256/w2v_test_256.kv\")\n",
    "i2v = W2V(\"pure_text\", \"w2v\", pretrained_path)\n",
    "\n",
    "item_vector, token_vector = i2v(items)\n",
    "# or\n",
    "item_vector, token_vector = i2v.infer_vector(items)\n",
    "# or\n",
    "item_vector = i2v.infer_item_vector(items)\n",
    "token_vector = i2v.infer_token_vector(items)\n",
    "\n",
    "print(len(item_vector), len(item_vector[0])) \n",
    "print(len(token_vector), len(token_vector[0]), len(token_vector[0][0]))"
   ]
  }
 ],
 "metadata": {
  "interpreter": {
   "hash": "776957673adb719a00031a24ed5efd2fa5ce8a13405e5193f8d278edd3805d55"
  },
  "kernelspec": {
   "display_name": "Python 3.6.13 64-bit ('data': conda)",
   "name": "python3"
  },
  "language_info": {
   "codemirror_mode": {
    "name": "ipython",
    "version": 3
   },
   "file_extension": ".py",
   "mimetype": "text/x-python",
   "name": "python",
   "nbconvert_exporter": "python",
   "pygments_lexer": "ipython3",
   "version": "3.6.2"
  },
  "orig_nbformat": 4
 },
 "nbformat": 4,
 "nbformat_minor": 2
}
