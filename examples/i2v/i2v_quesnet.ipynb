{
 "cells": [
  {
   "cell_type": "markdown",
   "metadata": {},
   "source": [
    "# 使用QuesNet向量化容器"
   ]
  },
  {
   "cell_type": "code",
   "execution_count": 1,
   "metadata": {},
   "outputs": [
    {
     "name": "stderr",
     "output_type": "stream",
     "text": [
      "d:\\MySoftwares\\Anaconda\\envs\\data\\lib\\site-packages\\gensim\\similarities\\__init__.py:15: UserWarning: The gensim.similarities.levenshtein submodule is disabled, because the optional Levenshtein package <https://pypi.org/project/python-Levenshtein/> is unavailable. Install Levenhstein (e.g. `pip install python-Levenshtein`) to suppress this warning.\n",
      "  warnings.warn(msg)\n"
     ]
    }
   ],
   "source": [
    "from EduNLP.I2V import QuesNet, get_pretrained_i2v\n",
    "import os\n",
    "\n",
    "# 设置你的数据路径和输出路径\n",
    "# BASE_DIR = \"/your/own/base/path\"\n",
    "BASE_DIR = \"../../\"\n",
    "\n",
    "data_dir = f\"{BASE_DIR}/static/test_data\"\n",
    "output_dir = f\"{BASE_DIR}/examples/test_model/quesnet\""
   ]
  },
  {
   "cell_type": "code",
   "execution_count": 2,
   "metadata": {},
   "outputs": [],
   "source": [
    "raw_data = [\n",
    "  {\"ques_content\": \"已知集合$A=\\\\left\\\\{x \\\\mid x^{2}-3 x-4<0\\\\right\\\\}, \\\\quad B=\\\\{-4,1,3,5\\\\}, \\\\quad$ 则 $A \\\\cap B=$\", \"ques_subject\": 1, \"ques_id\": \"726cdbec-33a9-11ec-909c-98fa9b625adb\", \"ques_type\": 7, \"ques_system\": 10, \"ques_period\": 2, \"ques_options\": [\"\\\\\\\\{-4,1\\\\\\\\}\", \"\\\\\\\\{1,5\\\\\\\\}\", \"\\\\\\\\{3,5\\\\\\\\}\", \"\\\\\\\\{1,3\\\\\\\\}\"], \"ques_answer\": \"D\", \"know_list\": [0, 10, 57], \"know_name\": [\"代数\", \"集合\", \"集合的相等\"], \"difficulty\": 0.424379, \"ques_figure_ids\": None, \"ques_figure_paths\": None},\n",
    "  {\"ques_content\": \"若复数$z=1+2 i+i^{3}$，则$|z|=$\", \"ques_subject\": 1, \"ques_id\": \"726e139c-33a9-11ec-bd9e-98fa9b625adb\", \"ques_type\": 7, \"ques_system\": 10, \"ques_period\": 2, \"ques_options\": [\"0\", \"1\", \"$\\\\\\\\sqrt{2}$\", \"2\"], \"ques_answer\": \"C\", \"know_list\": [0, 19, 269], \"know_name\": [\"代数\", \"数系的扩充与复数\", \"复数代数形式的加减运算\"], \"difficulty\": 0.566538, \"ques_figure_ids\": None, \"ques_figure_paths\": None}\n",
    "]"
   ]
  },
  {
   "cell_type": "markdown",
   "metadata": {},
   "source": [
    "## 使用get_pretrained_i2v加载公开模型"
   ]
  },
  {
   "cell_type": "code",
   "execution_count": 3,
   "metadata": {},
   "outputs": [],
   "source": [
    "# 获取公开的预训练模型\n",
    "i2v = get_pretrained_i2v(\"quesnet_test_256\", model_dir=output_dir)"
   ]
  },
  {
   "cell_type": "code",
   "execution_count": null,
   "metadata": {},
   "outputs": [
    {
     "name": "stdout",
     "output_type": "stream",
     "text": [
      "torch.Size([1, 256])\n",
      "torch.Size([1, 43, 256])\n",
      "\n",
      "torch.Size([1, 43, 256])\n",
      "torch.Size([1, 256])\n",
      "\n",
      "torch.Size([2, 43, 256])\n",
      "torch.Size([2, 256])\n"
     ]
    }
   ],
   "source": [
    "# 获得单个题目的表征\n",
    "i_vec, t_vec = i2v(raw_data[0], key=lambda x: x[\"ques_content\"])\n",
    "print(i_vec.shape)\n",
    "print(t_vec.shape)\n",
    "print()\n",
    "\n",
    "# 也可以分别获得题目表征和各个token的表征\n",
    "t_vec = i2v.infer_token_vector(raw_data[0], key=lambda x: x[\"ques_content\"])\n",
    "i_vec = i2v.infer_item_vector(raw_data[0], key=lambda x: x[\"ques_content\"])\n",
    "print(t_vec.shape)\n",
    "print(i_vec.shape)\n",
    "print()\n",
    "\n",
    "# 获得题目列表的表征\n",
    "t_vec = i2v.infer_token_vector(raw_data[:2], key=lambda x: x[\"ques_content\"])\n",
    "i_vec = i2v.infer_item_vector(raw_data[:2], key=lambda x: x[\"ques_content\"])\n",
    "print(t_vec.shape)\n",
    "print(i_vec.shape)"
   ]
  },
  {
   "cell_type": "markdown",
   "metadata": {},
   "source": [
    "## 使用I2V加载本地模型"
   ]
  },
  {
   "cell_type": "code",
   "execution_count": null,
   "metadata": {},
   "outputs": [],
   "source": [
    "pretrained_dir = os.path.join(output_dir, \"quesnet_test_256\")\n",
    "\n",
    "tokenizer_kwargs = {\n",
    "    'tokenizer_config_dir': pretrained_dir,\n",
    "}\n",
    "i2v = QuesNet('quesnet', 'quesnet', pretrained_dir,\n",
    "              tokenizer_kwargs=tokenizer_kwargs, device=\"cpu\")"
   ]
  },
  {
   "cell_type": "code",
   "execution_count": null,
   "metadata": {},
   "outputs": [
    {
     "name": "stdout",
     "output_type": "stream",
     "text": [
      "torch.Size([1, 256])\n",
      "torch.Size([1, 43, 256])\n",
      "\n",
      "torch.Size([1, 43, 256])\n",
      "torch.Size([1, 256])\n",
      "\n",
      "torch.Size([2, 43, 256])\n",
      "torch.Size([2, 256])\n"
     ]
    }
   ],
   "source": [
    "# 用法和I2V相同\n",
    "\n",
    "# 获得单个题目的表征\n",
    "i_vec, t_vec = i2v(raw_data[0], key=lambda x: x[\"ques_content\"])\n",
    "print(i_vec.shape)\n",
    "print(t_vec.shape)\n",
    "print()\n",
    "\n",
    "# 也可以分别获得题目表征和各个token的表征\n",
    "t_vec = i2v.infer_token_vector(raw_data[0], key=lambda x: x[\"ques_content\"])\n",
    "i_vec = i2v.infer_item_vector(raw_data[0], key=lambda x: x[\"ques_content\"])\n",
    "print(t_vec.shape)\n",
    "print(i_vec.shape)\n",
    "print()\n",
    "\n",
    "# 获得题目列表的表征\n",
    "t_vec = i2v.infer_token_vector(raw_data[:2], key=lambda x: x[\"ques_content\"])\n",
    "i_vec = i2v.infer_item_vector(raw_data[:2], key=lambda x: x[\"ques_content\"])\n",
    "print(t_vec.shape)\n",
    "print(i_vec.shape)"
   ]
  }
 ],
 "metadata": {
  "interpreter": {
   "hash": "2a09bcfc86f5d80d5adfb774779878f28f4d48d5a6d6c0020bcfd8afaf909ec6"
  },
  "kernelspec": {
   "display_name": "Python 3.6.13 ('data')",
   "language": "python",
   "name": "python3"
  },
  "language_info": {
   "codemirror_mode": {
    "name": "ipython",
    "version": 3
   },
   "file_extension": ".py",
   "mimetype": "text/x-python",
   "name": "python",
   "nbconvert_exporter": "python",
   "pygments_lexer": "ipython3",
   "version": "3.6.13"
  },
  "orig_nbformat": 4
 },
 "nbformat": 4,
 "nbformat_minor": 2
}
