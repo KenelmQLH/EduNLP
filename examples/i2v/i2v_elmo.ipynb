{
 "cells": [
  {
   "cell_type": "markdown",
   "metadata": {},
   "source": [
    "# 使用Elmo向量化容器"
   ]
  },
  {
   "cell_type": "code",
   "execution_count": 1,
   "metadata": {},
   "outputs": [
    {
     "name": "stderr",
     "output_type": "stream",
     "text": [
      "d:\\MySoftwares\\Anaconda\\envs\\data\\lib\\site-packages\\gensim\\similarities\\__init__.py:15: UserWarning: The gensim.similarities.levenshtein submodule is disabled, because the optional Levenshtein package <https://pypi.org/project/python-Levenshtein/> is unavailable. Install Levenhstein (e.g. `pip install python-Levenshtein`) to suppress this warning.\n",
      "  warnings.warn(msg)\n"
     ]
    }
   ],
   "source": [
    "from EduNLP.I2V import Elmo, get_pretrained_i2v\n",
    "\n",
    "\n",
    "# 设置你的数据路径和输出路径\n",
    "BASE_DIR = \"../..\"\n",
    "\n",
    "data_dir = f\"{BASE_DIR}/static/test_data\"\n",
    "output_dir = f\"{BASE_DIR}/examples/test_model/elmo\""
   ]
  },
  {
   "cell_type": "markdown",
   "metadata": {},
   "source": [
    "## 使用I2V加载本地模型"
   ]
  },
  {
   "cell_type": "code",
   "execution_count": 2,
   "metadata": {},
   "outputs": [],
   "source": [
    "\n",
    "tokenizer_kwargs = {\"path\": os.path.join(output_dir, \"vocab.json\")}\n",
    "i2v = Elmo('elmo', 'elmo', output_dir, tokenizer_kwargs=tokenizer_kwargs)\n"
   ]
  },
  {
   "cell_type": "code",
   "execution_count": 3,
   "metadata": {},
   "outputs": [
    {
     "name": "stdout",
     "output_type": "stream",
     "text": [
      "torch.Size([512])\n",
      "torch.Size([15, 512])\n",
      "torch.Size([2, 512])\n",
      "torch.Size([2, 25, 512])\n"
     ]
    }
   ],
   "source": [
    "item = [\n",
    "        {'stem': '如图$\\\\FigureID{088f15ea-8b7c-11eb-897e-b46bfc50aa29}$, \\\n",
    "        若$x,y$满足约束条件$\\\\SIFSep$，则$z=x+7 y$的最大值为$\\\\SIFBlank$'},\n",
    "        {'stem': '已知圆$x^{2}+y^{2}-6 x=0$，过点(1,2)的直线被该圆所截得的弦的长度的最小值为'}\n",
    "]\n",
    "# 可以对单个题目进行表征\n",
    "i_vec, t_vec = i2v(item[0]['stem'])\n",
    "print(i_vec.shape) # == torch.Size([x])\n",
    "print(t_vec.shape) # == torch.Size([x, x])\n",
    "\n",
    "# 也可以对题目列表进行表征\n",
    "i_vec, t_vec = i2v([ item[0]['stem'], item[1]['stem'] ])\n",
    "print(i_vec.shape) # == torch.Size([2, x])\n",
    "print(t_vec.shape) # == torch.Size([2, x, x]))"
   ]
  },
  {
   "cell_type": "markdown",
   "metadata": {},
   "source": [
    "## 使用get_pretrained_i2v加载公开模型"
   ]
  },
  {
   "cell_type": "code",
   "execution_count": 5,
   "metadata": {},
   "outputs": [
    {
     "name": "stderr",
     "output_type": "stream",
     "text": [
      "EduNLP, INFO model_path: ..\\..\\examples\\test_model\\elmo\\elmo_test\n",
      "EduNLP, INFO Use pretrained t2v model elmo_test\n",
      "downloader, INFO http://base.ustc.edu.cn/data/model_zoo/modelhub/elmo_pub/1/elmo_test.zip is saved as ..\\..\\examples\\test_model\\elmo\\elmo_test.zip\n",
      "downloader, INFO file existed, skipped\n"
     ]
    }
   ],
   "source": [
    "# 获取公开的预训练模型\n",
    "i2v = get_pretrained_i2v(\"elmo_test\", model_dir=output_dir)"
   ]
  },
  {
   "cell_type": "code",
   "execution_count": 6,
   "metadata": {},
   "outputs": [
    {
     "name": "stdout",
     "output_type": "stream",
     "text": [
      "torch.Size([2, 64])\n",
      "torch.Size([2, 25, 64])\n",
      "\n",
      "torch.Size([2, 64])\n",
      "torch.Size([2, 25, 64])\n",
      "\n",
      "torch.Size([64])\n",
      "torch.Size([17, 64])\n"
     ]
    }
   ],
   "source": [
    "items = [\n",
    "    \"有公式$\\\\FormFigureID{wrong1?}$，如图$\\\\FigureID{088f15ea-xxx}$,\\\n",
    "    若$x,y$满足约束条件公式$\\\\FormFigureBase64{wrong2?}$,$\\\\SIFSep$，则$z=x+7 y$的最大值为$\\\\SIFBlank$\",\n",
    "    \"已知圆$x^{2}+y^{2}-6 x=0$，过点(1,2)的直线被该圆所截得的弦的长度的最小值为\"\n",
    "]\n",
    "i_vec, t_vec = i2v(items)\n",
    "print(i_vec.shape)\n",
    "print(t_vec.shape)\n",
    "print()\n",
    "\n",
    "# 也可以单独获取题目表征和各个token的表征\n",
    "i_vec = i2v.infer_item_vector(items)\n",
    "print(i_vec.shape)\n",
    "t_vec = i2v.infer_token_vector(items)\n",
    "print(t_vec.shape)\n",
    "print()\n",
    "\n",
    "# 同样，可以获取单个题目的表征\n",
    "i_vec, t_vec = i2v(items[0])\n",
    "print(i_vec.shape)\n",
    "print(t_vec.shape)"
   ]
  }
 ],
 "metadata": {
  "interpreter": {
   "hash": "2a09bcfc86f5d80d5adfb774779878f28f4d48d5a6d6c0020bcfd8afaf909ec6"
  },
  "kernelspec": {
   "display_name": "Python 3.6.13 ('data')",
   "language": "python",
   "name": "python3"
  },
  "language_info": {
   "codemirror_mode": {
    "name": "ipython",
    "version": 3
   },
   "file_extension": ".py",
   "mimetype": "text/x-python",
   "name": "python",
   "nbconvert_exporter": "python",
   "pygments_lexer": "ipython3",
   "version": "3.6.13"
  },
  "orig_nbformat": 4
 },
 "nbformat": 4,
 "nbformat_minor": 2
}