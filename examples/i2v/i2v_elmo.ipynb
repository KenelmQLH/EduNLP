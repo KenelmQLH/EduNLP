{
 "cells": [
  {
   "cell_type": "markdown",
   "metadata": {},
   "source": [
    "# 使用XX向量化容器"
   ]
  }
 ],
 "metadata": {
  "interpreter": {
   "hash": "b382cef40dd971cc2dbe8ba2edbaa050107902df0a70ea4f16c2d1929445c537"
  },
  "kernelspec": {
   "display_name": "Python 3.6.2 ('data')",
   "language": "python",
   "name": "python3"
  },
  "language_info": {
   "name": "python",
   "version": "3.6.2"
  },
  "orig_nbformat": 4
 },
 "nbformat": 4,
 "nbformat_minor": 2
}
