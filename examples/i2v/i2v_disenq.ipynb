{
 "cells": [
  {
   "cell_type": "markdown",
   "metadata": {},
   "source": [
    "# 使用DisenQ向量化容器"
   ]
  },
  {
   "cell_type": "code",
   "execution_count": 2,
   "metadata": {},
   "outputs": [],
   "source": [
    "from EduNLP.I2V import DisenQ, get_pretrained_i2v\n",
    "\n",
    "# 设置你的数据路径和输出路径\n",
    "BASE_DIR = '../..' # \"/your/own/base/path\"\n",
    "\n",
    "data_dir = f\"{BASE_DIR}/static/test_data\"\n",
    "output_dir = f\"{BASE_DIR}/examples/test_model/disenq\""
   ]
  },
  {
   "cell_type": "markdown",
   "metadata": {},
   "source": [
    "## 使用I2V加载本地模型"
   ]
  },
  {
   "cell_type": "code",
   "execution_count": 3,
   "metadata": {},
   "outputs": [],
   "source": [
    "tokenizer_kwargs = {\n",
    "    \"tokenizer_config_dir\": output_dir,\n",
    "}\n",
    "i2v = DisenQ('disenq', 'disenq', output_dir, tokenizer_kwargs=tokenizer_kwargs, device=\"cpu\")"
   ]
  },
  {
   "cell_type": "code",
   "execution_count": 4,
   "metadata": {},
   "outputs": [
    {
     "name": "stdout",
     "output_type": "stream",
     "text": [
      "torch.Size([2, 23, 128])\n",
      "torch.Size([2, 128])\n",
      "torch.Size([2, 128])\n",
      "torch.Size([1, 11, 128])\n",
      "torch.Size([1, 128])\n",
      "torch.Size([2, 128])\n"
     ]
    }
   ],
   "source": [
    "test_items = [\n",
    "    {\"content\": \"10 米 的 (2/5) = 多少 米 的 (1/2),有 公 式\"},\n",
    "    {\"content\": \"10 米 的 (2/5) = 多少 米 的 (1/2),有 公 式 , 如 图 , 若 $x,y$ 满 足 约 束 条 件 公 式\"},\n",
    "]\n",
    "\n",
    "t_vec = i2v.infer_token_vector(test_items, key=lambda x: x[\"content\"])\n",
    "i_vec_k = i2v.infer_item_vector(test_items, key=lambda x: x[\"content\"], vector_type=\"k\")\n",
    "i_vec_i = i2v.infer_item_vector(test_items, key=lambda x: x[\"content\"], vector_type=\"i\")\n",
    "\n",
    "print(t_vec.shape) # == torch.Size([2, 23, 128])\n",
    "print(i_vec_k.shape) # == torch.Size([2, 128])\n",
    "print(i_vec_i.shape) # == torch.Size([2, 128])\n",
    "\n",
    "t_vec = i2v.infer_token_vector(test_items[0], key=lambda x: x[\"content\"])\n",
    "i_vec_k = i2v.infer_item_vector(test_items[0], key=lambda x: x[\"content\"], vector_type=\"k\")\n",
    "i_vec_i = i2v.infer_item_vector(test_items, key=lambda x: x[\"content\"], vector_type=\"i\")\n",
    "\n",
    "print(t_vec.shape) # == torch.Size([1, 11, 128])\n",
    "print(i_vec_k.shape) # == torch.Size([1, 128])\n",
    "print(i_vec_i.shape) # == torch.Size([2, 128])"
   ]
  },
  {
   "cell_type": "markdown",
   "metadata": {},
   "source": [
    "## 使用get_pretrained_i2v加载公开模型"
   ]
  },
  {
   "cell_type": "code",
   "execution_count": 5,
   "metadata": {},
   "outputs": [
    {
     "name": "stderr",
     "output_type": "stream",
     "text": [
      "EduNLP, INFO model_dir: ..\\..\\examples\\test_model\\disenq\\disenq_test_128\n",
      "EduNLP, INFO Use pretrained t2v model disenq_test_128\n",
      "downloader, INFO http://base.ustc.edu.cn/data/model_zoo/modelhub/disenq_public/1/disenq_test_128.zip is saved as ..\\..\\examples\\test_model\\disenq\\disenq_test_128.zip\n",
      "downloader, INFO file existed, skipped\n"
     ]
    }
   ],
   "source": [
    "# 获取公开的预训练模型\n",
    "pretrained_dir = f\"{BASE_DIR}/examples/test_model/disenq\"\n",
    "i2v = get_pretrained_i2v(\"disenq_test_128\", model_dir=pretrained_dir)"
   ]
  },
  {
   "cell_type": "code",
   "execution_count": 6,
   "metadata": {},
   "outputs": [
    {
     "name": "stdout",
     "output_type": "stream",
     "text": [
      "torch.Size([2, 128]) torch.Size([2, 128])\n",
      "torch.Size([2, 24, 128])\n",
      "\n",
      "torch.Size([2, 128])\n",
      "torch.Size([2, 24, 128])\n",
      "\n",
      "torch.Size([2, 128])\n",
      "torch.Size([2, 128])\n",
      "torch.Size([2, 24, 128])\n"
     ]
    }
   ],
   "source": [
    "test_items = [\n",
    "    \"有 公 式 $\\\\FormFigureID{1}$ ，如 图 $\\\\FigureID{088f15ea-xxx}$\",\n",
    "    \"已知 圆 $x^{2}+y^{2}-6 x=0$ ，过 点 (1,2) 的 直 线 被 该 圆 所 截 得 的 弦 的 长度 的 最小 值 为\"\n",
    "]\n",
    "\n",
    "# 获得句表征和词表征\n",
    "i_vec, t_vec = i2v(test_items)\n",
    "print(i_vec[0].shape, i_vec[1].shape)\n",
    "print(t_vec.shape)\n",
    "print()\n",
    "\n",
    "i_vec_k, t_vec = i2v(test_items, vector_type=\"k\")\n",
    "print(i_vec_k.shape)\n",
    "print(t_vec.shape)\n",
    "print()\n",
    "\n",
    "# 获得指定表征\n",
    "i_vec_k = i2v.infer_item_vector(test_items, vector_type=\"k\")\n",
    "i_vec_i = i2v.infer_item_vector(test_items, vector_type=\"i\")\n",
    "t_vec = i2v.infer_token_vector(test_items)\n",
    "\n",
    "print(i_vec_k.shape)\n",
    "print(i_vec_i.shape)\n",
    "print(t_vec.shape)"
   ]
  }
 ],
 "metadata": {
  "interpreter": {
   "hash": "2a09bcfc86f5d80d5adfb774779878f28f4d48d5a6d6c0020bcfd8afaf909ec6"
  },
  "kernelspec": {
   "display_name": "Python 3.6.13 ('data')",
   "language": "python",
   "name": "python3"
  },
  "language_info": {
   "codemirror_mode": {
    "name": "ipython",
    "version": 3
   },
   "file_extension": ".py",
   "mimetype": "text/x-python",
   "name": "python",
   "nbconvert_exporter": "python",
   "pygments_lexer": "ipython3",
   "version": "3.6.13"
  },
  "orig_nbformat": 4
 },
 "nbformat": 4,
 "nbformat_minor": 2
}
